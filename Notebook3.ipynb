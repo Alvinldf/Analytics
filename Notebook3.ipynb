{
 "cells": [
  {
   "cell_type": "markdown",
   "id": "russian-bridges",
   "metadata": {},
   "source": [
    "# Obteniendo la data"
   ]
  },
  {
   "cell_type": "markdown",
   "id": "collect-approval",
   "metadata": {},
   "source": [
    "## Realizaremos web scraping a the World Economic Forum"
   ]
  },
  {
   "cell_type": "code",
   "execution_count": 11,
   "id": "dying-belgium",
   "metadata": {},
   "outputs": [],
   "source": [
    "import requests"
   ]
  },
  {
   "cell_type": "code",
   "execution_count": 12,
   "id": "vital-pontiac",
   "metadata": {},
   "outputs": [
    {
     "data": {
      "text/plain": [
       "200"
      ]
     },
     "execution_count": 12,
     "metadata": {},
     "output_type": "execute_result"
    }
   ],
   "source": [
    "url = 'http://reports.weforum.org/global-competitiveness-report-2018/competitiveness-rankings/#series=GCI4.A.02'\n",
    "response = requests.get(url)\n",
    "response.status_code"
   ]
  },
  {
   "cell_type": "code",
   "execution_count": 13,
   "id": "greenhouse-master",
   "metadata": {},
   "outputs": [],
   "source": [
    "from bs4 import BeautifulSoup"
   ]
  },
  {
   "cell_type": "code",
   "execution_count": 14,
   "id": "played-conservation",
   "metadata": {},
   "outputs": [],
   "source": [
    "import lxml.html as html"
   ]
  },
  {
   "cell_type": "code",
   "execution_count": 15,
   "id": "constitutional-purse",
   "metadata": {},
   "outputs": [],
   "source": [
    "soup = BeautifulSoup(response.content, 'html')"
   ]
  },
  {
   "cell_type": "code",
   "execution_count": 18,
   "id": "neither-broadcast",
   "metadata": {},
   "outputs": [
    {
     "data": {
      "text/plain": [
       "[]"
      ]
     },
     "execution_count": 18,
     "metadata": {},
     "output_type": "execute_result"
    }
   ],
   "source": [
    "soup.find_all('ol')"
   ]
  },
  {
   "cell_type": "markdown",
   "id": "unusual-cache",
   "metadata": {},
   "source": [
    "### Usando Selenium"
   ]
  },
  {
   "cell_type": "code",
   "execution_count": 21,
   "id": "artificial-swing",
   "metadata": {},
   "outputs": [],
   "source": [
    "from selenium.webdriver import Chrome"
   ]
  },
  {
   "cell_type": "code",
   "execution_count": 22,
   "id": "related-calculator",
   "metadata": {},
   "outputs": [],
   "source": [
    "driver = Chrome('./chromedriver')\n",
    "driver.get(url)\n",
    "driver.maximize_window()"
   ]
  },
  {
   "cell_type": "code",
   "execution_count": 24,
   "id": "julian-occurrence",
   "metadata": {},
   "outputs": [],
   "source": [
    "tabla = driver.find_element_by_xpath('//ol[@class=\"series-economy-table__rows\"]')"
   ]
  },
  {
   "cell_type": "code",
   "execution_count": 27,
   "id": "instant-bridge",
   "metadata": {},
   "outputs": [],
   "source": [
    "column1 = tabla.find_elements_by_xpath('.//span[@class=\"series-economy-table__economy-name\"]')\n",
    "#column1"
   ]
  },
  {
   "cell_type": "code",
   "execution_count": 28,
   "id": "distinct-devon",
   "metadata": {},
   "outputs": [],
   "source": [
    "column2 = tabla.find_elements_by_xpath('.//b[@class=\"series-economy-table__score\"]')"
   ]
  },
  {
   "cell_type": "code",
   "execution_count": 31,
   "id": "indian-converter",
   "metadata": {},
   "outputs": [],
   "source": [
    "#column1 = [column.text for column in column1]\n",
    "#column1"
   ]
  },
  {
   "cell_type": "code",
   "execution_count": 33,
   "id": "expired-visibility",
   "metadata": {},
   "outputs": [],
   "source": [
    "#column2 = [column.text for column in column2]\n",
    "#column2"
   ]
  },
  {
   "cell_type": "code",
   "execution_count": 34,
   "id": "homeless-flood",
   "metadata": {},
   "outputs": [],
   "source": [
    "driver.close()"
   ]
  },
  {
   "cell_type": "code",
   "execution_count": 35,
   "id": "labeled-panama",
   "metadata": {},
   "outputs": [],
   "source": [
    "import pandas as pd"
   ]
  },
  {
   "cell_type": "code",
   "execution_count": 36,
   "id": "close-rider",
   "metadata": {},
   "outputs": [],
   "source": [
    "doDataFrame = [column1, column2]"
   ]
  },
  {
   "cell_type": "code",
   "execution_count": 39,
   "id": "focal-mapping",
   "metadata": {},
   "outputs": [],
   "source": [
    "df = pd.DataFrame(doDataFrame).transpose()"
   ]
  },
  {
   "cell_type": "code",
   "execution_count": 45,
   "id": "directed-whale",
   "metadata": {},
   "outputs": [
    {
     "data": {
      "text/html": [
       "<div>\n",
       "<style scoped>\n",
       "    .dataframe tbody tr th:only-of-type {\n",
       "        vertical-align: middle;\n",
       "    }\n",
       "\n",
       "    .dataframe tbody tr th {\n",
       "        vertical-align: top;\n",
       "    }\n",
       "\n",
       "    .dataframe thead th {\n",
       "        text-align: right;\n",
       "    }\n",
       "</style>\n",
       "<table border=\"1\" class=\"dataframe\">\n",
       "  <thead>\n",
       "    <tr style=\"text-align: right;\">\n",
       "      <th></th>\n",
       "      <th>country</th>\n",
       "      <th>score</th>\n",
       "    </tr>\n",
       "  </thead>\n",
       "  <tbody>\n",
       "    <tr>\n",
       "      <th>0</th>\n",
       "      <td>Singapore</td>\n",
       "      <td>95.7</td>\n",
       "    </tr>\n",
       "    <tr>\n",
       "      <th>1</th>\n",
       "      <td>Hong Kong SAR</td>\n",
       "      <td>94.0</td>\n",
       "    </tr>\n",
       "    <tr>\n",
       "      <th>2</th>\n",
       "      <td>Switzerland</td>\n",
       "      <td>93.3</td>\n",
       "    </tr>\n",
       "    <tr>\n",
       "      <th>3</th>\n",
       "      <td>Netherlands</td>\n",
       "      <td>92.4</td>\n",
       "    </tr>\n",
       "    <tr>\n",
       "      <th>4</th>\n",
       "      <td>Japan</td>\n",
       "      <td>91.5</td>\n",
       "    </tr>\n",
       "    <tr>\n",
       "      <th>...</th>\n",
       "      <td>...</td>\n",
       "      <td>...</td>\n",
       "    </tr>\n",
       "    <tr>\n",
       "      <th>135</th>\n",
       "      <td>Liberia</td>\n",
       "      <td>34.8</td>\n",
       "    </tr>\n",
       "    <tr>\n",
       "      <th>136</th>\n",
       "      <td>Chad</td>\n",
       "      <td>34.1</td>\n",
       "    </tr>\n",
       "    <tr>\n",
       "      <th>137</th>\n",
       "      <td>Yemen</td>\n",
       "      <td>33.5</td>\n",
       "    </tr>\n",
       "    <tr>\n",
       "      <th>138</th>\n",
       "      <td>Congo, Democratic Rep.</td>\n",
       "      <td>33.1</td>\n",
       "    </tr>\n",
       "    <tr>\n",
       "      <th>139</th>\n",
       "      <td>Haiti</td>\n",
       "      <td>28.6</td>\n",
       "    </tr>\n",
       "  </tbody>\n",
       "</table>\n",
       "<p>140 rows × 2 columns</p>\n",
       "</div>"
      ],
      "text/plain": [
       "                    country score\n",
       "0                 Singapore  95.7\n",
       "1             Hong Kong SAR  94.0\n",
       "2               Switzerland  93.3\n",
       "3               Netherlands  92.4\n",
       "4                     Japan  91.5\n",
       "..                      ...   ...\n",
       "135                 Liberia  34.8\n",
       "136                    Chad  34.1\n",
       "137                   Yemen  33.5\n",
       "138  Congo, Democratic Rep.  33.1\n",
       "139                   Haiti  28.6\n",
       "\n",
       "[140 rows x 2 columns]"
      ]
     },
     "execution_count": 45,
     "metadata": {},
     "output_type": "execute_result"
    }
   ],
   "source": [
    "#df.columns = ['country','score']\n",
    "df"
   ]
  },
  {
   "cell_type": "markdown",
   "id": "outside-diameter",
   "metadata": {},
   "source": [
    "## Descargaremos datos del banco mundial"
   ]
  },
  {
   "cell_type": "code",
   "execution_count": 42,
   "id": "immediate-correlation",
   "metadata": {},
   "outputs": [],
   "source": [
    "from pandas_datareader import wb"
   ]
  },
  {
   "cell_type": "code",
   "execution_count": 46,
   "id": "surprised-frank",
   "metadata": {},
   "outputs": [],
   "source": [
    "df2 = wb.download(indicator='NY.GDP.PCAP.PP.CD', country='all', start=2018, end=2018)"
   ]
  },
  {
   "cell_type": "code",
   "execution_count": 49,
   "id": "framed-departure",
   "metadata": {},
   "outputs": [],
   "source": [
    "df2.reset_index(inplace=True)"
   ]
  },
  {
   "cell_type": "code",
   "execution_count": 50,
   "id": "utility-bench",
   "metadata": {},
   "outputs": [
    {
     "data": {
      "text/plain": [
       "Index(['country', 'year', 'NY.GDP.PCAP.PP.CD'], dtype='object')"
      ]
     },
     "execution_count": 50,
     "metadata": {},
     "output_type": "execute_result"
    }
   ],
   "source": [
    "df2.columns"
   ]
  },
  {
   "cell_type": "code",
   "execution_count": 51,
   "id": "iraqi-touch",
   "metadata": {},
   "outputs": [],
   "source": [
    "df2.drop('year',axis=1, inplace=True)"
   ]
  },
  {
   "cell_type": "code",
   "execution_count": 53,
   "id": "impossible-weather",
   "metadata": {},
   "outputs": [],
   "source": [
    "df2.columns = ['country','GDP per capita, PPP']"
   ]
  },
  {
   "cell_type": "code",
   "execution_count": 54,
   "id": "painful-league",
   "metadata": {},
   "outputs": [
    {
     "data": {
      "text/plain": [
       "Index(['country', 'GDP per capita, PPP'], dtype='object')"
      ]
     },
     "execution_count": 54,
     "metadata": {},
     "output_type": "execute_result"
    }
   ],
   "source": [
    "df2.columns"
   ]
  },
  {
   "cell_type": "markdown",
   "id": "constant-wages",
   "metadata": {},
   "source": [
    "## Uniendo los datos para contruir nuestra propia base de datos!!!"
   ]
  },
  {
   "cell_type": "code",
   "execution_count": 57,
   "id": "intimate-movement",
   "metadata": {},
   "outputs": [],
   "source": [
    "dfFinal = pd.merge(df, df2, on='country')"
   ]
  },
  {
   "cell_type": "code",
   "execution_count": 58,
   "id": "royal-mileage",
   "metadata": {},
   "outputs": [
    {
     "name": "stdout",
     "output_type": "stream",
     "text": [
      "<class 'pandas.core.frame.DataFrame'>\n",
      "Int64Index: 131 entries, 0 to 130\n",
      "Data columns (total 3 columns):\n",
      " #   Column               Non-Null Count  Dtype  \n",
      "---  ------               --------------  -----  \n",
      " 0   country              131 non-null    object \n",
      " 1   score                131 non-null    object \n",
      " 2   GDP per capita, PPP  131 non-null    float64\n",
      "dtypes: float64(1), object(2)\n",
      "memory usage: 4.1+ KB\n"
     ]
    }
   ],
   "source": [
    "dfFinal.info()"
   ]
  },
  {
   "cell_type": "code",
   "execution_count": 59,
   "id": "false-consciousness",
   "metadata": {},
   "outputs": [],
   "source": [
    "dfFinal['score'] = pd.to_numeric(dfFinal['score'], downcast='float')"
   ]
  },
  {
   "cell_type": "code",
   "execution_count": 60,
   "id": "abandoned-sustainability",
   "metadata": {},
   "outputs": [
    {
     "name": "stdout",
     "output_type": "stream",
     "text": [
      "<class 'pandas.core.frame.DataFrame'>\n",
      "Int64Index: 131 entries, 0 to 130\n",
      "Data columns (total 3 columns):\n",
      " #   Column               Non-Null Count  Dtype  \n",
      "---  ------               --------------  -----  \n",
      " 0   country              131 non-null    object \n",
      " 1   score                131 non-null    float32\n",
      " 2   GDP per capita, PPP  131 non-null    float64\n",
      "dtypes: float32(1), float64(1), object(1)\n",
      "memory usage: 3.6+ KB\n"
     ]
    }
   ],
   "source": [
    "dfFinal.info()"
   ]
  },
  {
   "cell_type": "markdown",
   "id": "dedicated-southwest",
   "metadata": {},
   "source": [
    "## Una primera visualización de la correlacion entre las variables"
   ]
  },
  {
   "cell_type": "code",
   "execution_count": 61,
   "id": "obvious-ownership",
   "metadata": {},
   "outputs": [],
   "source": [
    "import matplotlib.pyplot as plt\n",
    "%matplotlib inline\n",
    "import seaborn as sns"
   ]
  },
  {
   "cell_type": "code",
   "execution_count": 83,
   "id": "accredited-gabriel",
   "metadata": {},
   "outputs": [
    {
     "data": {
      "image/png": "[encoded data removed]",
      "text/plain": [
       "<Figure size 576x396 with 1 Axes>"
      ]
     },
     "metadata": {},
     "output_type": "display_data"
    }
   ],
   "source": [
    "sns.scatterplot(x=dfFinal.score,\n",
    "               y=dfFinal['GDP per capita, PPP'],\n",
    "               data=dfFinal);"
   ]
  },
  {
   "cell_type": "code",
   "execution_count": 82,
   "id": "generous-sucking",
   "metadata": {},
   "outputs": [
    {
     "data": {
      "image/png": "[encoded data removed]",
      "text/plain": [
       "<Figure size 576x396 with 2 Axes>"
      ]
     },
     "metadata": {},
     "output_type": "display_data"
    }
   ],
   "source": [
    "sns.heatmap(dfFinal.isnull());"
   ]
  },
  {
   "cell_type": "markdown",
   "id": "concrete-closing",
   "metadata": {},
   "source": [
    "## Regresión Lineal"
   ]
  },
  {
   "cell_type": "code",
   "execution_count": 68,
   "id": "empirical-albert",
   "metadata": {},
   "outputs": [],
   "source": [
    "import statsmodels.api as sm"
   ]
  },
  {
   "cell_type": "code",
   "execution_count": 69,
   "id": "alleged-sleeve",
   "metadata": {},
   "outputs": [],
   "source": [
    "dfFinal['const'] = 1"
   ]
  },
  {
   "cell_type": "code",
   "execution_count": 74,
   "id": "suited-pizza",
   "metadata": {},
   "outputs": [
    {
     "data": {
      "text/plain": [
       "statsmodels.regression.linear_model.OLS"
      ]
     },
     "execution_count": 74,
     "metadata": {},
     "output_type": "execute_result"
    }
   ],
   "source": [
    "reg1 = sm.OLS(endog=dfFinal['GDP per capita, PPP'],\n",
    "      exog=dfFinal[['const','score']])\n",
    "type(reg1)"
   ]
  },
  {
   "cell_type": "code",
   "execution_count": 75,
   "id": "macro-martial",
   "metadata": {},
   "outputs": [
    {
     "data": {
      "text/plain": [
       "statsmodels.regression.linear_model.RegressionResultsWrapper"
      ]
     },
     "execution_count": 75,
     "metadata": {},
     "output_type": "execute_result"
    }
   ],
   "source": [
    "results = reg1.fit()\n",
    "type(results)"
   ]
  },
  {
   "cell_type": "code",
   "execution_count": 76,
   "id": "polished-network",
   "metadata": {},
   "outputs": [
    {
     "name": "stdout",
     "output_type": "stream",
     "text": [
      "                             OLS Regression Results                            \n",
      "===============================================================================\n",
      "Dep. Variable:     GDP per capita, PPP   R-squared:                       0.613\n",
      "Model:                             OLS   Adj. R-squared:                  0.610\n",
      "Method:                  Least Squares   F-statistic:                     204.0\n",
      "Date:                 Thu, 04 Feb 2021   Prob (F-statistic):           2.41e-28\n",
      "Time:                         22:47:47   Log-Likelihood:                -1437.7\n",
      "No. Observations:                  131   AIC:                             2879.\n",
      "Df Residuals:                      129   BIC:                             2885.\n",
      "Df Model:                            1                                         \n",
      "Covariance Type:             nonrobust                                         \n",
      "==============================================================================\n",
      "                 coef    std err          t      P>|t|      [0.025      0.975]\n",
      "------------------------------------------------------------------------------\n",
      "const      -4.996e+04   5369.159     -9.305      0.000   -6.06e+04   -3.93e+04\n",
      "score       1136.5070     79.564     14.284      0.000     979.087    1293.927\n",
      "==============================================================================\n",
      "Omnibus:                       66.146   Durbin-Watson:                   1.550\n",
      "Prob(Omnibus):                  0.000   Jarque-Bera (JB):              247.502\n",
      "Skew:                           1.863   Prob(JB):                     1.80e-54\n",
      "Kurtosis:                       8.609   Cond. No.                         291.\n",
      "==============================================================================\n",
      "\n",
      "Notes:\n",
      "[1] Standard Errors assume that the covariance matrix of the errors is correctly specified.\n"
     ]
    }
   ],
   "source": [
    "print(results.summary())"
   ]
  },
  {
   "cell_type": "code",
   "execution_count": 77,
   "id": "successful-luxury",
   "metadata": {},
   "outputs": [],
   "source": [
    "import numpy as np"
   ]
  },
  {
   "cell_type": "code",
   "execution_count": 81,
   "id": "motivated-emergency",
   "metadata": {},
   "outputs": [
    {
     "data": {
      "image/png": "[encoded data removed]",
      "text/plain": [
       "<Figure size 576x396 with 1 Axes>"
      ]
     },
     "metadata": {},
     "output_type": "display_data"
    }
   ],
   "source": [
    "# Plot predicted values\n",
    "\n",
    "fix, ax = plt.subplots()\n",
    "ax.scatter(dfFinal.score, results.predict(), alpha=0.5,\n",
    "        label='predicted')\n",
    "\n",
    "# Plot observed values\n",
    "\n",
    "ax.scatter(dfFinal.score, dfFinal['GDP per capita, PPP'], alpha=0.5,\n",
    "        label='observed')\n",
    "\n",
    "ax.legend()\n",
    "ax.set_title('OLS predicted values')\n",
    "ax.set_xlabel('score')\n",
    "ax.set_ylabel('gdp-per-capita')\n",
    "plt.show()"
   ]
  },
  {
   "cell_type": "code",
   "execution_count": 80,
   "id": "intellectual-robin",
   "metadata": {},
   "outputs": [],
   "source": [
    "plt.style.use('seaborn')"
   ]
  },
  {
   "cell_type": "code",
   "execution_count": null,
   "id": "dominant-impact",
   "metadata": {},
   "outputs": [],
   "source": []
  },
  {
   "cell_type": "code",
   "execution_count": 84,
   "id": "secondary-messaging",
   "metadata": {},
   "outputs": [
    {
     "name": "stdout",
     "output_type": "stream",
     "text": [
      "Parameters: \n",
      " const   -49960.979571\n",
      "score     1136.507047\n",
      "dtype: float64\n",
      "********************************\n",
      "Standard errors: \n",
      " const    5369.159278\n",
      "score      79.564263\n",
      "dtype: float64\n",
      "********************************\n",
      "Predicted values: \n",
      " [ 58802.74136576  56075.13138947  55052.27331293  54029.4152364\n",
      "  53802.11729532  52551.95260685  52438.30363632  51756.40114225\n",
      "  51301.79658924  51188.14761871  50392.5961541   48346.88000102\n",
      "  48119.58205995  48005.92441856  46301.16384795  45960.21693634\n",
      "  44937.3588598   44710.06091873  44710.06091873  44482.7543068\n",
      "  43573.55387166  43005.30034812  41641.48668911  40959.58419504\n",
      "  40164.03273043  39141.17465389  38800.21907143  38686.57010089\n",
      "  38572.92113036  38572.92113036  38231.96554789  37550.06305382\n",
      "  37436.41408328  37322.76511275  36868.16055974  36640.85394781\n",
      "  36527.20497728  35845.30248321  35504.34690074  35504.34690074\n",
      "  35163.39998913  34936.0933772   34936.0933772   33685.93735959\n",
      "  33117.68383605  33004.03486552  32890.38589498  32549.43031252\n",
      "  32094.82575952  31526.57223598  31299.27429491  31071.97635384\n",
      "  30958.31871244  29708.16269483  29480.86475376  29253.55814183\n",
      "  29253.55814183  28798.96225969  28230.70873615  28117.05109476\n",
      "  28003.40212422  28003.40212422  27662.45521261  27321.49963015\n",
      "  26866.89507715  26525.94816554  26184.99258307  25957.694642\n",
      "  25844.03700061  25730.38803007  25389.44111847  24366.58304193\n",
      "  24252.93407139  24025.62745946  23911.97848892  23343.72496539\n",
      "  23116.42702432  22207.21791831  21638.96439478  21070.71087124\n",
      "  20957.0619007   20729.7596242   19934.20382416  19593.25257713\n",
      "  19024.99905359  17888.49200652  17888.49200652  17547.54075948\n",
      "  17092.93620648  16865.63392998  16524.68268294  16297.38040644\n",
      "  15956.4291594   15956.4291594   15388.17563587  15160.87335937\n",
      "  14024.36631229  13910.71734176  13910.71734176  12774.21029468\n",
      "  12319.60574168  11751.35221814  11296.75200057  10728.49847703\n",
      "   9251.03584749   8910.08460046   8796.43562992   8000.87982988\n",
      "   7773.57755338   7205.32402985   5159.6122122    2318.34459451\n",
      "   1750.09107097   -863.87427021  -1204.82551725  -1432.12779375\n",
      "  -1886.73234675  -2114.03462325  -3364.19064086  -3705.1418879\n",
      "  -6887.36075262  -7001.01405858  -7569.26758212  -7682.91655266\n",
      "  -8364.82338216  -8705.7746292   -9501.33042923  -9728.6283703\n",
      " -10410.53519981 -11206.09099985 -17456.87759104]\n"
     ]
    }
   ],
   "source": [
    "print('Parameters: \\n', results.params)\n",
    "print('********************************')\n",
    "print('Standard errors: \\n', results.bse)\n",
    "print('********************************')\n",
    "print('Predicted values: \\n', results.predict())"
   ]
  },
  {
   "cell_type": "code",
   "execution_count": null,
   "id": "permanent-guard",
   "metadata": {},
   "outputs": [],
   "source": []
  }
 ],
 "metadata": {
  "kernelspec": {
   "display_name": "Python 3",
   "language": "python",
   "name": "python3"
  },
  "language_info": {
   "codemirror_mode": {
    "name": "ipython",
    "version": 3
   },
   "file_extension": ".py",
   "mimetype": "text/x-python",
   "name": "python",
   "nbconvert_exporter": "python",
   "pygments_lexer": "ipython3",
   "version": "3.8.6"
  }
 },
 "nbformat": 4,
 "nbformat_minor": 5
}
