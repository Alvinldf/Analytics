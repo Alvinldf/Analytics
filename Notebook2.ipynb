{
 "cells": [
  {
   "cell_type": "markdown",
   "id": "quantitative-sapphire",
   "metadata": {},
   "source": [
    "# Análisis de datos level 2"
   ]
  },
  {
   "cell_type": "code",
   "execution_count": 1,
   "id": "spectacular-cable",
   "metadata": {},
   "outputs": [],
   "source": [
    "# Necesitamos pandas, pandas data reader \n",
    "# Debemos saber cómo extraer la data de world bank con\n",
    "# los códigos de países y los códigos de los indicadores"
   ]
  },
  {
   "cell_type": "code",
   "execution_count": 2,
   "id": "bizarre-creativity",
   "metadata": {},
   "outputs": [],
   "source": [
    "co2 = 'EN.ATM.CO2E.KT'\n",
    "inflation = 'NY.GDP.DEFL.KD.ZG'\n",
    "gdp = 'NY.GDP.MKTP.CD' #current US$\n",
    "unemployment = 'SL.UEM.TOTL.ZS' # % of total labor force\n",
    "gini = 'SI.POV.GINI'\n",
    "cel_subs = 'IT.CEL.SETS.P2'\n",
    "col_names = ['co2','inflation','gdp','unemployment','gini','cell_subs']"
   ]
  },
  {
   "cell_type": "code",
   "execution_count": 3,
   "id": "imperial-cooler",
   "metadata": {},
   "outputs": [],
   "source": [
    "import pandas as pd\n",
    "from pandas_datareader import wb"
   ]
  },
  {
   "cell_type": "code",
   "execution_count": 4,
   "id": "assumed-ecuador",
   "metadata": {},
   "outputs": [
    {
     "name": "stdout",
     "output_type": "stream",
     "text": [
      "Requirement already satisfied: pandas-datareader in ./.venv/lib/python3.8/site-packages (0.9.0)\n",
      "Requirement already satisfied: lxml in ./.venv/lib/python3.8/site-packages (from pandas-datareader) (4.6.2)\n",
      "Requirement already satisfied: requests>=2.19.0 in ./.venv/lib/python3.8/site-packages (from pandas-datareader) (2.25.1)\n",
      "Requirement already satisfied: pandas>=0.23 in ./.venv/lib/python3.8/site-packages (from pandas-datareader) (1.2.1)\n",
      "Requirement already satisfied: chardet<5,>=3.0.2 in ./.venv/lib/python3.8/site-packages (from requests>=2.19.0->pandas-datareader) (4.0.0)\n",
      "Requirement already satisfied: certifi>=2017.4.17 in ./.venv/lib/python3.8/site-packages (from requests>=2.19.0->pandas-datareader) (2020.12.5)\n",
      "Requirement already satisfied: urllib3<1.27,>=1.21.1 in ./.venv/lib/python3.8/site-packages (from requests>=2.19.0->pandas-datareader) (1.26.2)\n",
      "Requirement already satisfied: idna<3,>=2.5 in ./.venv/lib/python3.8/site-packages (from requests>=2.19.0->pandas-datareader) (2.10)\n",
      "Requirement already satisfied: pytz>=2017.3 in ./.venv/lib/python3.8/site-packages (from pandas>=0.23->pandas-datareader) (2020.5)\n",
      "Requirement already satisfied: python-dateutil>=2.7.3 in ./.venv/lib/python3.8/site-packages (from pandas>=0.23->pandas-datareader) (2.8.1)\n",
      "Requirement already satisfied: numpy>=1.16.5 in ./.venv/lib/python3.8/site-packages (from pandas>=0.23->pandas-datareader) (1.19.5)\n",
      "Requirement already satisfied: six>=1.5 in ./.venv/lib/python3.8/site-packages (from python-dateutil>=2.7.3->pandas>=0.23->pandas-datareader) (1.15.0)\n"
     ]
    }
   ],
   "source": [
    "!pip install pandas-datareader"
   ]
  },
  {
   "cell_type": "code",
   "execution_count": 5,
   "id": "protective-reading",
   "metadata": {},
   "outputs": [
    {
     "data": {
      "text/html": [
       "<div>\n",
       "<style scoped>\n",
       "    .dataframe tbody tr th:only-of-type {\n",
       "        vertical-align: middle;\n",
       "    }\n",
       "\n",
       "    .dataframe tbody tr th {\n",
       "        vertical-align: top;\n",
       "    }\n",
       "\n",
       "    .dataframe thead th {\n",
       "        text-align: right;\n",
       "    }\n",
       "</style>\n",
       "<table border=\"1\" class=\"dataframe\">\n",
       "  <thead>\n",
       "    <tr style=\"text-align: right;\">\n",
       "      <th></th>\n",
       "      <th></th>\n",
       "      <th>EN.ATM.CO2E.KT</th>\n",
       "      <th>NY.GDP.DEFL.KD.ZG</th>\n",
       "      <th>NY.GDP.MKTP.CD</th>\n",
       "      <th>SL.UEM.TOTL.ZS</th>\n",
       "      <th>SI.POV.GINI</th>\n",
       "      <th>IT.CEL.SETS.P2</th>\n",
       "    </tr>\n",
       "    <tr>\n",
       "      <th>country</th>\n",
       "      <th>year</th>\n",
       "      <th></th>\n",
       "      <th></th>\n",
       "      <th></th>\n",
       "      <th></th>\n",
       "      <th></th>\n",
       "      <th></th>\n",
       "    </tr>\n",
       "  </thead>\n",
       "  <tbody>\n",
       "    <tr>\n",
       "      <th rowspan=\"5\" valign=\"top\">Chile</th>\n",
       "      <th>2020</th>\n",
       "      <td>NaN</td>\n",
       "      <td>NaN</td>\n",
       "      <td>NaN</td>\n",
       "      <td>7.096</td>\n",
       "      <td>NaN</td>\n",
       "      <td>NaN</td>\n",
       "    </tr>\n",
       "    <tr>\n",
       "      <th>2019</th>\n",
       "      <td>NaN</td>\n",
       "      <td>2.668611</td>\n",
       "      <td>2.823182e+11</td>\n",
       "      <td>7.090</td>\n",
       "      <td>NaN</td>\n",
       "      <td>132.185</td>\n",
       "    </tr>\n",
       "    <tr>\n",
       "      <th>2018</th>\n",
       "      <td>NaN</td>\n",
       "      <td>2.360479</td>\n",
       "      <td>2.982580e+11</td>\n",
       "      <td>7.233</td>\n",
       "      <td>NaN</td>\n",
       "      <td>134.437</td>\n",
       "    </tr>\n",
       "    <tr>\n",
       "      <th>2017</th>\n",
       "      <td>NaN</td>\n",
       "      <td>4.782014</td>\n",
       "      <td>2.770450e+11</td>\n",
       "      <td>6.958</td>\n",
       "      <td>44.4</td>\n",
       "      <td>124.594</td>\n",
       "    </tr>\n",
       "    <tr>\n",
       "      <th>2016</th>\n",
       "      <td>85822.468</td>\n",
       "      <td>4.469919</td>\n",
       "      <td>2.504401e+11</td>\n",
       "      <td>6.738</td>\n",
       "      <td>NaN</td>\n",
       "      <td>127.973</td>\n",
       "    </tr>\n",
       "    <tr>\n",
       "      <th>...</th>\n",
       "      <th>...</th>\n",
       "      <td>...</td>\n",
       "      <td>...</td>\n",
       "      <td>...</td>\n",
       "      <td>...</td>\n",
       "      <td>...</td>\n",
       "      <td>...</td>\n",
       "    </tr>\n",
       "    <tr>\n",
       "      <th rowspan=\"5\" valign=\"top\">Venezuela, RB</th>\n",
       "      <th>1964</th>\n",
       "      <td>56603.812</td>\n",
       "      <td>-0.366503</td>\n",
       "      <td>8.099318e+09</td>\n",
       "      <td>NaN</td>\n",
       "      <td>NaN</td>\n",
       "      <td>NaN</td>\n",
       "    </tr>\n",
       "    <tr>\n",
       "      <th>1963</th>\n",
       "      <td>56204.109</td>\n",
       "      <td>4.919830</td>\n",
       "      <td>9.753333e+09</td>\n",
       "      <td>NaN</td>\n",
       "      <td>NaN</td>\n",
       "      <td>NaN</td>\n",
       "    </tr>\n",
       "    <tr>\n",
       "      <th>1962</th>\n",
       "      <td>54106.585</td>\n",
       "      <td>0.665054</td>\n",
       "      <td>8.946970e+09</td>\n",
       "      <td>NaN</td>\n",
       "      <td>NaN</td>\n",
       "      <td>NaN</td>\n",
       "    </tr>\n",
       "    <tr>\n",
       "      <th>1961</th>\n",
       "      <td>51928.387</td>\n",
       "      <td>2.013731</td>\n",
       "      <td>8.189091e+09</td>\n",
       "      <td>NaN</td>\n",
       "      <td>NaN</td>\n",
       "      <td>NaN</td>\n",
       "    </tr>\n",
       "    <tr>\n",
       "      <th>1960</th>\n",
       "      <td>57069.521</td>\n",
       "      <td>NaN</td>\n",
       "      <td>7.779091e+09</td>\n",
       "      <td>NaN</td>\n",
       "      <td>NaN</td>\n",
       "      <td>0.000</td>\n",
       "    </tr>\n",
       "  </tbody>\n",
       "</table>\n",
       "<p>183 rows × 6 columns</p>\n",
       "</div>"
      ],
      "text/plain": [
       "                    EN.ATM.CO2E.KT  NY.GDP.DEFL.KD.ZG  NY.GDP.MKTP.CD  \\\n",
       "country       year                                                      \n",
       "Chile         2020             NaN                NaN             NaN   \n",
       "              2019             NaN           2.668611    2.823182e+11   \n",
       "              2018             NaN           2.360479    2.982580e+11   \n",
       "              2017             NaN           4.782014    2.770450e+11   \n",
       "              2016       85822.468           4.469919    2.504401e+11   \n",
       "...                            ...                ...             ...   \n",
       "Venezuela, RB 1964       56603.812          -0.366503    8.099318e+09   \n",
       "              1963       56204.109           4.919830    9.753333e+09   \n",
       "              1962       54106.585           0.665054    8.946970e+09   \n",
       "              1961       51928.387           2.013731    8.189091e+09   \n",
       "              1960       57069.521                NaN    7.779091e+09   \n",
       "\n",
       "                    SL.UEM.TOTL.ZS  SI.POV.GINI  IT.CEL.SETS.P2  \n",
       "country       year                                               \n",
       "Chile         2020           7.096          NaN             NaN  \n",
       "              2019           7.090          NaN         132.185  \n",
       "              2018           7.233          NaN         134.437  \n",
       "              2017           6.958         44.4         124.594  \n",
       "              2016           6.738          NaN         127.973  \n",
       "...                            ...          ...             ...  \n",
       "Venezuela, RB 1964             NaN          NaN             NaN  \n",
       "              1963             NaN          NaN             NaN  \n",
       "              1962             NaN          NaN             NaN  \n",
       "              1961             NaN          NaN             NaN  \n",
       "              1960             NaN          NaN           0.000  \n",
       "\n",
       "[183 rows x 6 columns]"
      ]
     },
     "execution_count": 5,
     "metadata": {},
     "output_type": "execute_result"
    }
   ],
   "source": [
    "data = wb.download(indicator = [co2, inflation, gdp, unemployment, gini, cel_subs],\n",
    "           country = ['PER','CL','VE'], start=1950, end=2020)\n",
    "data"
   ]
  },
  {
   "cell_type": "code",
   "execution_count": 6,
   "id": "heavy-resistance",
   "metadata": {},
   "outputs": [
    {
     "data": {
      "text/html": [
       "<div>\n",
       "<style scoped>\n",
       "    .dataframe tbody tr th:only-of-type {\n",
       "        vertical-align: middle;\n",
       "    }\n",
       "\n",
       "    .dataframe tbody tr th {\n",
       "        vertical-align: top;\n",
       "    }\n",
       "\n",
       "    .dataframe thead th {\n",
       "        text-align: right;\n",
       "    }\n",
       "</style>\n",
       "<table border=\"1\" class=\"dataframe\">\n",
       "  <thead>\n",
       "    <tr style=\"text-align: right;\">\n",
       "      <th></th>\n",
       "      <th></th>\n",
       "      <th>co2</th>\n",
       "      <th>inflation</th>\n",
       "      <th>gdp</th>\n",
       "      <th>unemployment</th>\n",
       "      <th>gini</th>\n",
       "      <th>cell_subs</th>\n",
       "    </tr>\n",
       "    <tr>\n",
       "      <th>country</th>\n",
       "      <th>year</th>\n",
       "      <th></th>\n",
       "      <th></th>\n",
       "      <th></th>\n",
       "      <th></th>\n",
       "      <th></th>\n",
       "      <th></th>\n",
       "    </tr>\n",
       "  </thead>\n",
       "  <tbody>\n",
       "    <tr>\n",
       "      <th rowspan=\"5\" valign=\"top\">Chile</th>\n",
       "      <th>2020</th>\n",
       "      <td>NaN</td>\n",
       "      <td>NaN</td>\n",
       "      <td>NaN</td>\n",
       "      <td>7.096</td>\n",
       "      <td>NaN</td>\n",
       "      <td>NaN</td>\n",
       "    </tr>\n",
       "    <tr>\n",
       "      <th>2019</th>\n",
       "      <td>NaN</td>\n",
       "      <td>2.668611</td>\n",
       "      <td>2.823182e+11</td>\n",
       "      <td>7.090</td>\n",
       "      <td>NaN</td>\n",
       "      <td>132.185</td>\n",
       "    </tr>\n",
       "    <tr>\n",
       "      <th>2018</th>\n",
       "      <td>NaN</td>\n",
       "      <td>2.360479</td>\n",
       "      <td>2.982580e+11</td>\n",
       "      <td>7.233</td>\n",
       "      <td>NaN</td>\n",
       "      <td>134.437</td>\n",
       "    </tr>\n",
       "    <tr>\n",
       "      <th>2017</th>\n",
       "      <td>NaN</td>\n",
       "      <td>4.782014</td>\n",
       "      <td>2.770450e+11</td>\n",
       "      <td>6.958</td>\n",
       "      <td>44.4</td>\n",
       "      <td>124.594</td>\n",
       "    </tr>\n",
       "    <tr>\n",
       "      <th>2016</th>\n",
       "      <td>85822.468</td>\n",
       "      <td>4.469919</td>\n",
       "      <td>2.504401e+11</td>\n",
       "      <td>6.738</td>\n",
       "      <td>NaN</td>\n",
       "      <td>127.973</td>\n",
       "    </tr>\n",
       "    <tr>\n",
       "      <th>...</th>\n",
       "      <th>...</th>\n",
       "      <td>...</td>\n",
       "      <td>...</td>\n",
       "      <td>...</td>\n",
       "      <td>...</td>\n",
       "      <td>...</td>\n",
       "      <td>...</td>\n",
       "    </tr>\n",
       "    <tr>\n",
       "      <th rowspan=\"5\" valign=\"top\">Venezuela, RB</th>\n",
       "      <th>1964</th>\n",
       "      <td>56603.812</td>\n",
       "      <td>-0.366503</td>\n",
       "      <td>8.099318e+09</td>\n",
       "      <td>NaN</td>\n",
       "      <td>NaN</td>\n",
       "      <td>NaN</td>\n",
       "    </tr>\n",
       "    <tr>\n",
       "      <th>1963</th>\n",
       "      <td>56204.109</td>\n",
       "      <td>4.919830</td>\n",
       "      <td>9.753333e+09</td>\n",
       "      <td>NaN</td>\n",
       "      <td>NaN</td>\n",
       "      <td>NaN</td>\n",
       "    </tr>\n",
       "    <tr>\n",
       "      <th>1962</th>\n",
       "      <td>54106.585</td>\n",
       "      <td>0.665054</td>\n",
       "      <td>8.946970e+09</td>\n",
       "      <td>NaN</td>\n",
       "      <td>NaN</td>\n",
       "      <td>NaN</td>\n",
       "    </tr>\n",
       "    <tr>\n",
       "      <th>1961</th>\n",
       "      <td>51928.387</td>\n",
       "      <td>2.013731</td>\n",
       "      <td>8.189091e+09</td>\n",
       "      <td>NaN</td>\n",
       "      <td>NaN</td>\n",
       "      <td>NaN</td>\n",
       "    </tr>\n",
       "    <tr>\n",
       "      <th>1960</th>\n",
       "      <td>57069.521</td>\n",
       "      <td>NaN</td>\n",
       "      <td>7.779091e+09</td>\n",
       "      <td>NaN</td>\n",
       "      <td>NaN</td>\n",
       "      <td>0.000</td>\n",
       "    </tr>\n",
       "  </tbody>\n",
       "</table>\n",
       "<p>183 rows × 6 columns</p>\n",
       "</div>"
      ],
      "text/plain": [
       "                          co2  inflation           gdp  unemployment  gini  \\\n",
       "country       year                                                           \n",
       "Chile         2020        NaN        NaN           NaN         7.096   NaN   \n",
       "              2019        NaN   2.668611  2.823182e+11         7.090   NaN   \n",
       "              2018        NaN   2.360479  2.982580e+11         7.233   NaN   \n",
       "              2017        NaN   4.782014  2.770450e+11         6.958  44.4   \n",
       "              2016  85822.468   4.469919  2.504401e+11         6.738   NaN   \n",
       "...                       ...        ...           ...           ...   ...   \n",
       "Venezuela, RB 1964  56603.812  -0.366503  8.099318e+09           NaN   NaN   \n",
       "              1963  56204.109   4.919830  9.753333e+09           NaN   NaN   \n",
       "              1962  54106.585   0.665054  8.946970e+09           NaN   NaN   \n",
       "              1961  51928.387   2.013731  8.189091e+09           NaN   NaN   \n",
       "              1960  57069.521        NaN  7.779091e+09           NaN   NaN   \n",
       "\n",
       "                    cell_subs  \n",
       "country       year             \n",
       "Chile         2020        NaN  \n",
       "              2019    132.185  \n",
       "              2018    134.437  \n",
       "              2017    124.594  \n",
       "              2016    127.973  \n",
       "...                       ...  \n",
       "Venezuela, RB 1964        NaN  \n",
       "              1963        NaN  \n",
       "              1962        NaN  \n",
       "              1961        NaN  \n",
       "              1960      0.000  \n",
       "\n",
       "[183 rows x 6 columns]"
      ]
     },
     "execution_count": 6,
     "metadata": {},
     "output_type": "execute_result"
    }
   ],
   "source": [
    "data.columns = col_names\n",
    "data"
   ]
  },
  {
   "cell_type": "markdown",
   "id": "located-september",
   "metadata": {},
   "source": [
    "# Exploración de datos"
   ]
  },
  {
   "cell_type": "code",
   "execution_count": 8,
   "id": "superb-preliminary",
   "metadata": {},
   "outputs": [
    {
     "name": "stdout",
     "output_type": "stream",
     "text": [
      "<class 'pandas.core.frame.DataFrame'>\n",
      "MultiIndex: 183 entries, ('Chile', '2020') to ('Venezuela, RB', '1960')\n",
      "Data columns (total 6 columns):\n",
      " #   Column        Non-Null Count  Dtype  \n",
      "---  ------        --------------  -----  \n",
      " 0   co2           171 non-null    float64\n",
      " 1   inflation     172 non-null    float64\n",
      " 2   gdp           175 non-null    float64\n",
      " 3   unemployment  90 non-null     float64\n",
      " 4   gini          49 non-null     float64\n",
      " 5   cell_subs     144 non-null    float64\n",
      "dtypes: float64(6)\n",
      "memory usage: 11.7+ KB\n"
     ]
    }
   ],
   "source": [
    "data.info()"
   ]
  },
  {
   "cell_type": "code",
   "execution_count": 9,
   "id": "indie-humor",
   "metadata": {},
   "outputs": [],
   "source": [
    "pd.options.display.float_format='{:,.2f}'.format"
   ]
  },
  {
   "cell_type": "code",
   "execution_count": 10,
   "id": "widespread-tunisia",
   "metadata": {},
   "outputs": [
    {
     "data": {
      "text/html": [
       "<div>\n",
       "<style scoped>\n",
       "    .dataframe tbody tr th:only-of-type {\n",
       "        vertical-align: middle;\n",
       "    }\n",
       "\n",
       "    .dataframe tbody tr th {\n",
       "        vertical-align: top;\n",
       "    }\n",
       "\n",
       "    .dataframe thead th {\n",
       "        text-align: right;\n",
       "    }\n",
       "</style>\n",
       "<table border=\"1\" class=\"dataframe\">\n",
       "  <thead>\n",
       "    <tr style=\"text-align: right;\">\n",
       "      <th></th>\n",
       "      <th>co2</th>\n",
       "      <th>inflation</th>\n",
       "      <th>gdp</th>\n",
       "      <th>unemployment</th>\n",
       "      <th>gini</th>\n",
       "      <th>cell_subs</th>\n",
       "    </tr>\n",
       "  </thead>\n",
       "  <tbody>\n",
       "    <tr>\n",
       "      <th>count</th>\n",
       "      <td>171.00</td>\n",
       "      <td>172.00</td>\n",
       "      <td>175.00</td>\n",
       "      <td>90.00</td>\n",
       "      <td>49.00</td>\n",
       "      <td>144.00</td>\n",
       "    </tr>\n",
       "    <tr>\n",
       "      <th>mean</th>\n",
       "      <td>60,677.08</td>\n",
       "      <td>87.60</td>\n",
       "      <td>78,678,166,775.76</td>\n",
       "      <td>7.29</td>\n",
       "      <td>49.35</td>\n",
       "      <td>33.81</td>\n",
       "    </tr>\n",
       "    <tr>\n",
       "      <th>std</th>\n",
       "      <td>50,214.80</td>\n",
       "      <td>518.63</td>\n",
       "      <td>94,384,264,341.28</td>\n",
       "      <td>3.06</td>\n",
       "      <td>4.41</td>\n",
       "      <td>47.01</td>\n",
       "    </tr>\n",
       "    <tr>\n",
       "      <th>min</th>\n",
       "      <td>8,173.74</td>\n",
       "      <td>-1.18</td>\n",
       "      <td>2,571,908,062.08</td>\n",
       "      <td>2.96</td>\n",
       "      <td>42.50</td>\n",
       "      <td>0.00</td>\n",
       "    </tr>\n",
       "    <tr>\n",
       "      <th>25%</th>\n",
       "      <td>22,810.57</td>\n",
       "      <td>4.28</td>\n",
       "      <td>13,970,310,347.13</td>\n",
       "      <td>5.51</td>\n",
       "      <td>45.50</td>\n",
       "      <td>0.00</td>\n",
       "    </tr>\n",
       "    <tr>\n",
       "      <th>50%</th>\n",
       "      <td>46,816.59</td>\n",
       "      <td>12.43</td>\n",
       "      <td>45,964,327,558.88</td>\n",
       "      <td>6.93</td>\n",
       "      <td>49.80</td>\n",
       "      <td>1.58</td>\n",
       "    </tr>\n",
       "    <tr>\n",
       "      <th>75%</th>\n",
       "      <td>77,835.74</td>\n",
       "      <td>34.20</td>\n",
       "      <td>92,112,395,583.41</td>\n",
       "      <td>8.97</td>\n",
       "      <td>53.10</td>\n",
       "      <td>74.05</td>\n",
       "    </tr>\n",
       "    <tr>\n",
       "      <th>max</th>\n",
       "      <td>193,316.91</td>\n",
       "      <td>6,261.24</td>\n",
       "      <td>482,359,318,767.70</td>\n",
       "      <td>16.78</td>\n",
       "      <td>57.20</td>\n",
       "      <td>137.59</td>\n",
       "    </tr>\n",
       "  </tbody>\n",
       "</table>\n",
       "</div>"
      ],
      "text/plain": [
       "             co2  inflation                gdp  unemployment  gini  cell_subs\n",
       "count     171.00     172.00             175.00         90.00 49.00     144.00\n",
       "mean   60,677.08      87.60  78,678,166,775.76          7.29 49.35      33.81\n",
       "std    50,214.80     518.63  94,384,264,341.28          3.06  4.41      47.01\n",
       "min     8,173.74      -1.18   2,571,908,062.08          2.96 42.50       0.00\n",
       "25%    22,810.57       4.28  13,970,310,347.13          5.51 45.50       0.00\n",
       "50%    46,816.59      12.43  45,964,327,558.88          6.93 49.80       1.58\n",
       "75%    77,835.74      34.20  92,112,395,583.41          8.97 53.10      74.05\n",
       "max   193,316.91   6,261.24 482,359,318,767.70         16.78 57.20     137.59"
      ]
     },
     "execution_count": 10,
     "metadata": {},
     "output_type": "execute_result"
    }
   ],
   "source": [
    "data.describe()"
   ]
  },
  {
   "cell_type": "code",
   "execution_count": 11,
   "id": "lined-mercury",
   "metadata": {},
   "outputs": [
    {
     "data": {
      "text/html": [
       "<div>\n",
       "<style scoped>\n",
       "    .dataframe tbody tr th:only-of-type {\n",
       "        vertical-align: middle;\n",
       "    }\n",
       "\n",
       "    .dataframe tbody tr th {\n",
       "        vertical-align: top;\n",
       "    }\n",
       "\n",
       "    .dataframe thead th {\n",
       "        text-align: right;\n",
       "    }\n",
       "</style>\n",
       "<table border=\"1\" class=\"dataframe\">\n",
       "  <thead>\n",
       "    <tr style=\"text-align: right;\">\n",
       "      <th></th>\n",
       "      <th>count</th>\n",
       "      <th>mean</th>\n",
       "      <th>std</th>\n",
       "      <th>min</th>\n",
       "      <th>25%</th>\n",
       "      <th>50%</th>\n",
       "      <th>75%</th>\n",
       "      <th>max</th>\n",
       "    </tr>\n",
       "    <tr>\n",
       "      <th>country</th>\n",
       "      <th></th>\n",
       "      <th></th>\n",
       "      <th></th>\n",
       "      <th></th>\n",
       "      <th></th>\n",
       "      <th></th>\n",
       "      <th></th>\n",
       "      <th></th>\n",
       "    </tr>\n",
       "  </thead>\n",
       "  <tbody>\n",
       "    <tr>\n",
       "      <th>Chile</th>\n",
       "      <td>60.00</td>\n",
       "      <td>81,362,448,047.40</td>\n",
       "      <td>93,083,928,209.98</td>\n",
       "      <td>4,110,000,000.00</td>\n",
       "      <td>13,435,624,393.08</td>\n",
       "      <td>33,811,882,930.78</td>\n",
       "      <td>105,148,997,654.73</td>\n",
       "      <td>298,258,019,275.05</td>\n",
       "    </tr>\n",
       "    <tr>\n",
       "      <th>Peru</th>\n",
       "      <td>60.00</td>\n",
       "      <td>59,260,368,566.87</td>\n",
       "      <td>68,005,465,326.36</td>\n",
       "      <td>2,571,908,062.08</td>\n",
       "      <td>13,517,775,813.93</td>\n",
       "      <td>24,454,972,877.70</td>\n",
       "      <td>69,091,679,138.33</td>\n",
       "      <td>226,848,050,819.52</td>\n",
       "    </tr>\n",
       "    <tr>\n",
       "      <th>Venezuela, RB</th>\n",
       "      <td>55.00</td>\n",
       "      <td>96,932,912,525.50</td>\n",
       "      <td>115,838,657,549.71</td>\n",
       "      <td>7,779,090,909.09</td>\n",
       "      <td>21,568,255,813.95</td>\n",
       "      <td>60,065,011,013.22</td>\n",
       "      <td>95,435,236,990.49</td>\n",
       "      <td>482,359,318,767.70</td>\n",
       "    </tr>\n",
       "  </tbody>\n",
       "</table>\n",
       "</div>"
      ],
      "text/plain": [
       "               count              mean                std              min  \\\n",
       "country                                                                      \n",
       "Chile          60.00 81,362,448,047.40  93,083,928,209.98 4,110,000,000.00   \n",
       "Peru           60.00 59,260,368,566.87  68,005,465,326.36 2,571,908,062.08   \n",
       "Venezuela, RB  55.00 96,932,912,525.50 115,838,657,549.71 7,779,090,909.09   \n",
       "\n",
       "                            25%               50%                75%  \\\n",
       "country                                                                \n",
       "Chile         13,435,624,393.08 33,811,882,930.78 105,148,997,654.73   \n",
       "Peru          13,517,775,813.93 24,454,972,877.70  69,091,679,138.33   \n",
       "Venezuela, RB 21,568,255,813.95 60,065,011,013.22  95,435,236,990.49   \n",
       "\n",
       "                             max  \n",
       "country                           \n",
       "Chile         298,258,019,275.05  \n",
       "Peru          226,848,050,819.52  \n",
       "Venezuela, RB 482,359,318,767.70  "
      ]
     },
     "execution_count": 11,
     "metadata": {},
     "output_type": "execute_result"
    }
   ],
   "source": [
    "data['gdp'].groupby(level=0).describe()"
   ]
  },
  {
   "cell_type": "code",
   "execution_count": 12,
   "id": "lonely-pierre",
   "metadata": {},
   "outputs": [
    {
     "data": {
      "text/html": [
       "<div>\n",
       "<style scoped>\n",
       "    .dataframe tbody tr th:only-of-type {\n",
       "        vertical-align: middle;\n",
       "    }\n",
       "\n",
       "    .dataframe tbody tr th {\n",
       "        vertical-align: top;\n",
       "    }\n",
       "\n",
       "    .dataframe thead th {\n",
       "        text-align: right;\n",
       "    }\n",
       "</style>\n",
       "<table border=\"1\" class=\"dataframe\">\n",
       "  <thead>\n",
       "    <tr style=\"text-align: right;\">\n",
       "      <th></th>\n",
       "      <th>count</th>\n",
       "      <th>mean</th>\n",
       "      <th>std</th>\n",
       "      <th>min</th>\n",
       "      <th>25%</th>\n",
       "      <th>50%</th>\n",
       "      <th>75%</th>\n",
       "      <th>max</th>\n",
       "    </tr>\n",
       "    <tr>\n",
       "      <th>country</th>\n",
       "      <th></th>\n",
       "      <th></th>\n",
       "      <th></th>\n",
       "      <th></th>\n",
       "      <th></th>\n",
       "      <th></th>\n",
       "      <th></th>\n",
       "      <th></th>\n",
       "    </tr>\n",
       "  </thead>\n",
       "  <tbody>\n",
       "    <tr>\n",
       "      <th>Chile</th>\n",
       "      <td>57.00</td>\n",
       "      <td>40,159.57</td>\n",
       "      <td>22,383.76</td>\n",
       "      <td>13,490.89</td>\n",
       "      <td>22,555.72</td>\n",
       "      <td>28,191.90</td>\n",
       "      <td>58,815.01</td>\n",
       "      <td>85,822.47</td>\n",
       "    </tr>\n",
       "    <tr>\n",
       "      <th>Peru</th>\n",
       "      <td>57.00</td>\n",
       "      <td>26,378.66</td>\n",
       "      <td>12,716.33</td>\n",
       "      <td>8,173.74</td>\n",
       "      <td>19,757.80</td>\n",
       "      <td>23,340.46</td>\n",
       "      <td>28,723.61</td>\n",
       "      <td>58,066.94</td>\n",
       "    </tr>\n",
       "    <tr>\n",
       "      <th>Venezuela, RB</th>\n",
       "      <td>57.00</td>\n",
       "      <td>115,493.00</td>\n",
       "      <td>48,037.28</td>\n",
       "      <td>51,928.39</td>\n",
       "      <td>66,501.04</td>\n",
       "      <td>109,529.62</td>\n",
       "      <td>164,380.61</td>\n",
       "      <td>193,316.91</td>\n",
       "    </tr>\n",
       "  </tbody>\n",
       "</table>\n",
       "</div>"
      ],
      "text/plain": [
       "               count       mean       std       min       25%        50%  \\\n",
       "country                                                                    \n",
       "Chile          57.00  40,159.57 22,383.76 13,490.89 22,555.72  28,191.90   \n",
       "Peru           57.00  26,378.66 12,716.33  8,173.74 19,757.80  23,340.46   \n",
       "Venezuela, RB  57.00 115,493.00 48,037.28 51,928.39 66,501.04 109,529.62   \n",
       "\n",
       "                     75%        max  \n",
       "country                              \n",
       "Chile          58,815.01  85,822.47  \n",
       "Peru           28,723.61  58,066.94  \n",
       "Venezuela, RB 164,380.61 193,316.91  "
      ]
     },
     "execution_count": 12,
     "metadata": {},
     "output_type": "execute_result"
    }
   ],
   "source": [
    "data['co2'].groupby(level=0).describe()"
   ]
  },
  {
   "cell_type": "code",
   "execution_count": 14,
   "id": "indie-acceptance",
   "metadata": {},
   "outputs": [
    {
     "name": "stdout",
     "output_type": "stream",
     "text": [
      "Indicador: co2\n",
      "               count       mean       std       min       25%        50%  \\\n",
      "country                                                                    \n",
      "Chile          57.00  40,159.57 22,383.76 13,490.89 22,555.72  28,191.90   \n",
      "Peru           57.00  26,378.66 12,716.33  8,173.74 19,757.80  23,340.46   \n",
      "Venezuela, RB  57.00 115,493.00 48,037.28 51,928.39 66,501.04 109,529.62   \n",
      "\n",
      "                     75%        max  \n",
      "country                              \n",
      "Chile          58,815.01  85,822.47  \n",
      "Peru           28,723.61  58,066.94  \n",
      "Venezuela, RB 164,380.61 193,316.91  \n",
      "*********************************************\n",
      "Indicador: inflation\n",
      "               count   mean    std   min  25%   50%   75%      max\n",
      "country                                                           \n",
      "Chile          59.00  46.38 112.27 -0.05 4.62 12.95 32.22   678.61\n",
      "Peru           59.00 188.25 874.06  0.11 3.09  9.32 42.16 6,261.24\n",
      "Venezuela, RB  54.00  22.68  22.67 -1.18 5.21 18.20 33.72   115.52\n",
      "*********************************************\n",
      "Indicador: gdp\n",
      "               count              mean                std              min  \\\n",
      "country                                                                      \n",
      "Chile          60.00 81,362,448,047.40  93,083,928,209.98 4,110,000,000.00   \n",
      "Peru           60.00 59,260,368,566.87  68,005,465,326.36 2,571,908,062.08   \n",
      "Venezuela, RB  55.00 96,932,912,525.50 115,838,657,549.71 7,779,090,909.09   \n",
      "\n",
      "                            25%               50%                75%  \\\n",
      "country                                                                \n",
      "Chile         13,435,624,393.08 33,811,882,930.78 105,148,997,654.73   \n",
      "Peru          13,517,775,813.93 24,454,972,877.70  69,091,679,138.33   \n",
      "Venezuela, RB 21,568,255,813.95 60,065,011,013.22  95,435,236,990.49   \n",
      "\n",
      "                             max  \n",
      "country                           \n",
      "Chile         298,258,019,275.05  \n",
      "Peru          226,848,050,819.52  \n",
      "Venezuela, RB 482,359,318,767.70  \n",
      "*********************************************\n",
      "Indicador: unemployment\n",
      "               count  mean  std  min  25%  50%   75%   max\n",
      "country                                                   \n",
      "Chile          30.00  7.76 1.98 4.35 6.66 7.27  9.33 11.31\n",
      "Peru           30.00  4.51 1.09 2.96 3.45 4.52  5.70  5.80\n",
      "Venezuela, RB  30.00  9.61 3.15 6.10 7.28 8.58 11.16 16.78\n",
      "*********************************************\n",
      "Indicador: gini\n",
      "               count  mean  std   min   25%   50%   75%   max\n",
      "country                                                      \n",
      "Chile          14.00 51.01 4.94 44.40 46.25 52.15 55.35 57.20\n",
      "Peru           22.00 48.32 4.44 42.80 44.02 48.30 51.07 56.30\n",
      "Venezuela, RB  13.00 49.31 3.44 42.50 47.80 49.80 50.60 55.60\n",
      "*********************************************\n",
      "Indicador: cell_subs\n",
      "               count  mean   std  min  25%  50%   75%    max\n",
      "country                                                     \n",
      "Chile          48.00 40.42 53.45 0.00 0.00 1.78 85.46 137.59\n",
      "Peru           48.00 30.03 46.29 0.00 0.00 0.56 59.15 123.76\n",
      "Venezuela, RB  48.00 30.98 40.69 0.00 0.00 2.22 70.43 104.11\n",
      "*********************************************\n"
     ]
    }
   ],
   "source": [
    "for indicator in col_names:\n",
    "    print('Indicador: ' + indicator)\n",
    "    print(data[indicator].groupby(level=0).describe())\n",
    "    print('*********************************************')"
   ]
  },
  {
   "cell_type": "code",
   "execution_count": null,
   "id": "challenging-northeast",
   "metadata": {},
   "outputs": [],
   "source": [
    " "
   ]
  },
  {
   "cell_type": "markdown",
   "id": "stock-bones",
   "metadata": {},
   "source": [
    "# Gráficos\n",
    "## Líneas de tiempo"
   ]
  },
  {
   "cell_type": "code",
   "execution_count": 21,
   "id": "exceptional-minority",
   "metadata": {},
   "outputs": [
    {
     "data": {
      "text/plain": [
       "<AxesSubplot:xlabel='year'>"
      ]
     },
     "execution_count": 21,
     "metadata": {},
     "output_type": "execute_result"
    },
    {
     "data": {
      "image/png": "[encoded data removed]",
      "text/plain": [
       "<Figure size 432x288 with 1 Axes>"
      ]
     },
     "metadata": {
      "needs_background": "light"
     },
     "output_type": "display_data"
    }
   ],
   "source": [
    "data.xs('Peru')['co2'].plot()"
   ]
  },
  {
   "cell_type": "code",
   "execution_count": 22,
   "id": "colonial-sheffield",
   "metadata": {},
   "outputs": [
    {
     "data": {
      "text/html": [
       "<div>\n",
       "<style scoped>\n",
       "    .dataframe tbody tr th:only-of-type {\n",
       "        vertical-align: middle;\n",
       "    }\n",
       "\n",
       "    .dataframe tbody tr th {\n",
       "        vertical-align: top;\n",
       "    }\n",
       "\n",
       "    .dataframe thead th {\n",
       "        text-align: right;\n",
       "    }\n",
       "</style>\n",
       "<table border=\"1\" class=\"dataframe\">\n",
       "  <thead>\n",
       "    <tr style=\"text-align: right;\">\n",
       "      <th></th>\n",
       "      <th>country</th>\n",
       "      <th>year</th>\n",
       "      <th>co2</th>\n",
       "      <th>inflation</th>\n",
       "      <th>gdp</th>\n",
       "      <th>unemployment</th>\n",
       "      <th>gini</th>\n",
       "      <th>cell_subs</th>\n",
       "    </tr>\n",
       "  </thead>\n",
       "  <tbody>\n",
       "    <tr>\n",
       "      <th>0</th>\n",
       "      <td>Chile</td>\n",
       "      <td>2020</td>\n",
       "      <td>NaN</td>\n",
       "      <td>NaN</td>\n",
       "      <td>NaN</td>\n",
       "      <td>7.10</td>\n",
       "      <td>NaN</td>\n",
       "      <td>NaN</td>\n",
       "    </tr>\n",
       "    <tr>\n",
       "      <th>1</th>\n",
       "      <td>Chile</td>\n",
       "      <td>2019</td>\n",
       "      <td>NaN</td>\n",
       "      <td>2.67</td>\n",
       "      <td>282,318,159,744.65</td>\n",
       "      <td>7.09</td>\n",
       "      <td>NaN</td>\n",
       "      <td>132.19</td>\n",
       "    </tr>\n",
       "    <tr>\n",
       "      <th>2</th>\n",
       "      <td>Chile</td>\n",
       "      <td>2018</td>\n",
       "      <td>NaN</td>\n",
       "      <td>2.36</td>\n",
       "      <td>298,258,019,275.05</td>\n",
       "      <td>7.23</td>\n",
       "      <td>NaN</td>\n",
       "      <td>134.44</td>\n",
       "    </tr>\n",
       "    <tr>\n",
       "      <th>3</th>\n",
       "      <td>Chile</td>\n",
       "      <td>2017</td>\n",
       "      <td>NaN</td>\n",
       "      <td>4.78</td>\n",
       "      <td>277,044,950,259.01</td>\n",
       "      <td>6.96</td>\n",
       "      <td>44.40</td>\n",
       "      <td>124.59</td>\n",
       "    </tr>\n",
       "    <tr>\n",
       "      <th>4</th>\n",
       "      <td>Chile</td>\n",
       "      <td>2016</td>\n",
       "      <td>85,822.47</td>\n",
       "      <td>4.47</td>\n",
       "      <td>250,440,136,356.13</td>\n",
       "      <td>6.74</td>\n",
       "      <td>NaN</td>\n",
       "      <td>127.97</td>\n",
       "    </tr>\n",
       "    <tr>\n",
       "      <th>...</th>\n",
       "      <td>...</td>\n",
       "      <td>...</td>\n",
       "      <td>...</td>\n",
       "      <td>...</td>\n",
       "      <td>...</td>\n",
       "      <td>...</td>\n",
       "      <td>...</td>\n",
       "      <td>...</td>\n",
       "    </tr>\n",
       "    <tr>\n",
       "      <th>178</th>\n",
       "      <td>Venezuela, RB</td>\n",
       "      <td>1964</td>\n",
       "      <td>56,603.81</td>\n",
       "      <td>-0.37</td>\n",
       "      <td>8,099,318,181.82</td>\n",
       "      <td>NaN</td>\n",
       "      <td>NaN</td>\n",
       "      <td>NaN</td>\n",
       "    </tr>\n",
       "    <tr>\n",
       "      <th>179</th>\n",
       "      <td>Venezuela, RB</td>\n",
       "      <td>1963</td>\n",
       "      <td>56,204.11</td>\n",
       "      <td>4.92</td>\n",
       "      <td>9,753,333,333.33</td>\n",
       "      <td>NaN</td>\n",
       "      <td>NaN</td>\n",
       "      <td>NaN</td>\n",
       "    </tr>\n",
       "    <tr>\n",
       "      <th>180</th>\n",
       "      <td>Venezuela, RB</td>\n",
       "      <td>1962</td>\n",
       "      <td>54,106.58</td>\n",
       "      <td>0.67</td>\n",
       "      <td>8,946,969,696.97</td>\n",
       "      <td>NaN</td>\n",
       "      <td>NaN</td>\n",
       "      <td>NaN</td>\n",
       "    </tr>\n",
       "    <tr>\n",
       "      <th>181</th>\n",
       "      <td>Venezuela, RB</td>\n",
       "      <td>1961</td>\n",
       "      <td>51,928.39</td>\n",
       "      <td>2.01</td>\n",
       "      <td>8,189,090,909.09</td>\n",
       "      <td>NaN</td>\n",
       "      <td>NaN</td>\n",
       "      <td>NaN</td>\n",
       "    </tr>\n",
       "    <tr>\n",
       "      <th>182</th>\n",
       "      <td>Venezuela, RB</td>\n",
       "      <td>1960</td>\n",
       "      <td>57,069.52</td>\n",
       "      <td>NaN</td>\n",
       "      <td>7,779,090,909.09</td>\n",
       "      <td>NaN</td>\n",
       "      <td>NaN</td>\n",
       "      <td>0.00</td>\n",
       "    </tr>\n",
       "  </tbody>\n",
       "</table>\n",
       "<p>183 rows × 8 columns</p>\n",
       "</div>"
      ],
      "text/plain": [
       "           country  year       co2  inflation                gdp  \\\n",
       "0            Chile  2020       NaN        NaN                NaN   \n",
       "1            Chile  2019       NaN       2.67 282,318,159,744.65   \n",
       "2            Chile  2018       NaN       2.36 298,258,019,275.05   \n",
       "3            Chile  2017       NaN       4.78 277,044,950,259.01   \n",
       "4            Chile  2016 85,822.47       4.47 250,440,136,356.13   \n",
       "..             ...   ...       ...        ...                ...   \n",
       "178  Venezuela, RB  1964 56,603.81      -0.37   8,099,318,181.82   \n",
       "179  Venezuela, RB  1963 56,204.11       4.92   9,753,333,333.33   \n",
       "180  Venezuela, RB  1962 54,106.58       0.67   8,946,969,696.97   \n",
       "181  Venezuela, RB  1961 51,928.39       2.01   8,189,090,909.09   \n",
       "182  Venezuela, RB  1960 57,069.52        NaN   7,779,090,909.09   \n",
       "\n",
       "     unemployment  gini  cell_subs  \n",
       "0            7.10   NaN        NaN  \n",
       "1            7.09   NaN     132.19  \n",
       "2            7.23   NaN     134.44  \n",
       "3            6.96 44.40     124.59  \n",
       "4            6.74   NaN     127.97  \n",
       "..            ...   ...        ...  \n",
       "178           NaN   NaN        NaN  \n",
       "179           NaN   NaN        NaN  \n",
       "180           NaN   NaN        NaN  \n",
       "181           NaN   NaN        NaN  \n",
       "182           NaN   NaN       0.00  \n",
       "\n",
       "[183 rows x 8 columns]"
      ]
     },
     "execution_count": 22,
     "metadata": {},
     "output_type": "execute_result"
    }
   ],
   "source": [
    "data.reset_index(inplace=True)\n",
    "data"
   ]
  },
  {
   "cell_type": "code",
   "execution_count": 23,
   "id": "imposed-clone",
   "metadata": {},
   "outputs": [
    {
     "name": "stdout",
     "output_type": "stream",
     "text": [
      "<class 'pandas.core.frame.DataFrame'>\n",
      "RangeIndex: 183 entries, 0 to 182\n",
      "Data columns (total 8 columns):\n",
      " #   Column        Non-Null Count  Dtype  \n",
      "---  ------        --------------  -----  \n",
      " 0   country       183 non-null    object \n",
      " 1   year          183 non-null    object \n",
      " 2   co2           171 non-null    float64\n",
      " 3   inflation     172 non-null    float64\n",
      " 4   gdp           175 non-null    float64\n",
      " 5   unemployment  90 non-null     float64\n",
      " 6   gini          49 non-null     float64\n",
      " 7   cell_subs     144 non-null    float64\n",
      "dtypes: float64(6), object(2)\n",
      "memory usage: 11.6+ KB\n"
     ]
    }
   ],
   "source": [
    "data.info()"
   ]
  },
  {
   "cell_type": "code",
   "execution_count": 24,
   "id": "cutting-rehabilitation",
   "metadata": {},
   "outputs": [],
   "source": [
    "data['year'] = pd.to_datetime(data['year'], format='%Y')"
   ]
  },
  {
   "cell_type": "code",
   "execution_count": 27,
   "id": "italian-nowhere",
   "metadata": {},
   "outputs": [
    {
     "name": "stdout",
     "output_type": "stream",
     "text": [
      "<class 'pandas.core.frame.DataFrame'>\n",
      "RangeIndex: 183 entries, 0 to 182\n",
      "Data columns (total 8 columns):\n",
      " #   Column        Non-Null Count  Dtype         \n",
      "---  ------        --------------  -----         \n",
      " 0   country       183 non-null    object        \n",
      " 1   year          183 non-null    datetime64[ns]\n",
      " 2   co2           171 non-null    float64       \n",
      " 3   inflation     172 non-null    float64       \n",
      " 4   gdp           175 non-null    float64       \n",
      " 5   unemployment  90 non-null     float64       \n",
      " 6   gini          49 non-null     float64       \n",
      " 7   cell_subs     144 non-null    float64       \n",
      "dtypes: datetime64[ns](1), float64(6), object(1)\n",
      "memory usage: 11.6+ KB\n"
     ]
    }
   ],
   "source": [
    "data.info()"
   ]
  },
  {
   "cell_type": "code",
   "execution_count": 28,
   "id": "aggregate-constant",
   "metadata": {},
   "outputs": [],
   "source": [
    "data['date'] = data['year'].dt.year"
   ]
  },
  {
   "cell_type": "code",
   "execution_count": 30,
   "id": "varied-equity",
   "metadata": {},
   "outputs": [
    {
     "name": "stdout",
     "output_type": "stream",
     "text": [
      "<class 'pandas.core.frame.DataFrame'>\n",
      "RangeIndex: 183 entries, 0 to 182\n",
      "Data columns (total 9 columns):\n",
      " #   Column        Non-Null Count  Dtype         \n",
      "---  ------        --------------  -----         \n",
      " 0   country       183 non-null    object        \n",
      " 1   year          183 non-null    datetime64[ns]\n",
      " 2   co2           171 non-null    float64       \n",
      " 3   inflation     172 non-null    float64       \n",
      " 4   gdp           175 non-null    float64       \n",
      " 5   unemployment  90 non-null     float64       \n",
      " 6   gini          49 non-null     float64       \n",
      " 7   cell_subs     144 non-null    float64       \n",
      " 8   date          183 non-null    int64         \n",
      "dtypes: datetime64[ns](1), float64(6), int64(1), object(1)\n",
      "memory usage: 13.0+ KB\n"
     ]
    }
   ],
   "source": [
    "data.info()"
   ]
  },
  {
   "cell_type": "code",
   "execution_count": 32,
   "id": "cubic-hampton",
   "metadata": {},
   "outputs": [],
   "source": [
    "data_co2 = data.pivot_table(values='co2', index='date', columns = 'country')\n"
   ]
  },
  {
   "cell_type": "code",
   "execution_count": 33,
   "id": "unnecessary-thomas",
   "metadata": {},
   "outputs": [],
   "source": [
    "import matplotlib.pyplot as plt\n",
    "%matplotlib inline"
   ]
  },
  {
   "cell_type": "code",
   "execution_count": 39,
   "id": "aerial-violin",
   "metadata": {},
   "outputs": [
    {
     "data": {
      "image/png": "[encoded data removed]",
      "text/plain": [
       "<Figure size 432x288 with 1 Axes>"
      ]
     },
     "metadata": {
      "needs_background": "light"
     },
     "output_type": "display_data"
    }
   ],
   "source": [
    "data_co2.Peru.plot()\n",
    "data_co2['Venezuela, RB'].plot()\n",
    "data_co2.Chile.plot()\n",
    "plt.legend()\n",
    "plt.title('co2 histórico');"
   ]
  },
  {
   "cell_type": "code",
   "execution_count": 40,
   "id": "sharing-yahoo",
   "metadata": {},
   "outputs": [
    {
     "data": {
      "text/plain": [
       "<AxesSubplot:>"
      ]
     },
     "execution_count": 40,
     "metadata": {},
     "output_type": "execute_result"
    },
    {
     "data": {
      "image/png": "[encoded data removed]",
      "text/plain": [
       "<Figure size 432x288 with 1 Axes>"
      ]
     },
     "metadata": {
      "needs_background": "light"
     },
     "output_type": "display_data"
    }
   ],
   "source": [
    "data_co2.boxplot()"
   ]
  },
  {
   "cell_type": "code",
   "execution_count": 45,
   "id": "finnish-scout",
   "metadata": {},
   "outputs": [],
   "source": [
    "def plotting_hitorical(data, indicador):\n",
    "    data_indicador = data.pivot_table(values=indicador, index='date',columns='country')\n",
    "    # graph 1\n",
    "    data_indicador.Peru.plot()\n",
    "    data_indicador['Venezuela, RB'].plot()\n",
    "    data_indicador.Chile.plot()\n",
    "    plt.legend()\n",
    "    plt.title(indicador + ' histórico');"
   ]
  },
  {
   "cell_type": "code",
   "execution_count": 46,
   "id": "destroyed-landscape",
   "metadata": {},
   "outputs": [
    {
     "data": {
      "image/png": "[encoded data removed]",
      "text/plain": [
       "<Figure size 432x288 with 1 Axes>"
      ]
     },
     "metadata": {
      "needs_background": "light"
     },
     "output_type": "display_data"
    }
   ],
   "source": [
    "plotting_hitorical(data, 'inflation')"
   ]
  },
  {
   "cell_type": "code",
   "execution_count": 48,
   "id": "charming-banking",
   "metadata": {},
   "outputs": [
    {
     "data": {
      "image/png": "[encoded data removed]",
      "text/plain": [
       "<Figure size 432x288 with 1 Axes>"
      ]
     },
     "metadata": {
      "needs_background": "light"
     },
     "output_type": "display_data"
    }
   ],
   "source": [
    "plotting_hitorical(data, 'unemployment')"
   ]
  },
  {
   "cell_type": "code",
   "execution_count": 49,
   "id": "undefined-northwest",
   "metadata": {},
   "outputs": [],
   "source": [
    "def plotting_boxplot(data, indicador):\n",
    "    data_indicador = data.pivot_table(values=indicador, index='date',columns='country')\n",
    "    \n",
    "    data_indicador.boxplot()\n",
    "    plt.title(indicador)"
   ]
  },
  {
   "cell_type": "code",
   "execution_count": 50,
   "id": "sticky-zimbabwe",
   "metadata": {},
   "outputs": [
    {
     "data": {
      "image/png": "[encoded data removed]",
      "text/plain": [
       "<Figure size 432x288 with 1 Axes>"
      ]
     },
     "metadata": {
      "needs_background": "light"
     },
     "output_type": "display_data"
    }
   ],
   "source": [
    "plotting_boxplot(data, 'gdp')"
   ]
  },
  {
   "cell_type": "code",
   "execution_count": 51,
   "id": "norman-immunology",
   "metadata": {},
   "outputs": [
    {
     "data": {
      "image/png": "[encoded data removed]",
      "text/plain": [
       "<Figure size 432x288 with 1 Axes>"
      ]
     },
     "metadata": {
      "needs_background": "light"
     },
     "output_type": "display_data"
    }
   ],
   "source": [
    "plotting_hitorical(data, 'gdp')"
   ]
  },
  {
   "cell_type": "code",
   "execution_count": 53,
   "id": "plain-object",
   "metadata": {},
   "outputs": [
    {
     "data": {
      "text/plain": [
       "country\n",
       "Chile            60\n",
       "Peru             60\n",
       "Venezuela, RB    55\n",
       "Name: gdp, dtype: int64"
      ]
     },
     "execution_count": 53,
     "metadata": {},
     "output_type": "execute_result"
    }
   ],
   "source": [
    "data.groupby('country')['gdp'].count()"
   ]
  },
  {
   "cell_type": "code",
   "execution_count": 56,
   "id": "fifty-prince",
   "metadata": {},
   "outputs": [
    {
     "data": {
      "text/html": [
       "<div>\n",
       "<style scoped>\n",
       "    .dataframe tbody tr th:only-of-type {\n",
       "        vertical-align: middle;\n",
       "    }\n",
       "\n",
       "    .dataframe tbody tr th {\n",
       "        vertical-align: top;\n",
       "    }\n",
       "\n",
       "    .dataframe thead th {\n",
       "        text-align: right;\n",
       "    }\n",
       "</style>\n",
       "<table border=\"1\" class=\"dataframe\">\n",
       "  <thead>\n",
       "    <tr style=\"text-align: right;\">\n",
       "      <th></th>\n",
       "      <th>country</th>\n",
       "      <th>year</th>\n",
       "      <th>co2</th>\n",
       "      <th>inflation</th>\n",
       "      <th>gdp</th>\n",
       "      <th>unemployment</th>\n",
       "      <th>gini</th>\n",
       "      <th>cell_subs</th>\n",
       "      <th>date</th>\n",
       "    </tr>\n",
       "  </thead>\n",
       "  <tbody>\n",
       "    <tr>\n",
       "      <th>122</th>\n",
       "      <td>Venezuela, RB</td>\n",
       "      <td>2020-01-01</td>\n",
       "      <td>NaN</td>\n",
       "      <td>NaN</td>\n",
       "      <td>NaN</td>\n",
       "      <td>9.38</td>\n",
       "      <td>NaN</td>\n",
       "      <td>NaN</td>\n",
       "      <td>2020</td>\n",
       "    </tr>\n",
       "    <tr>\n",
       "      <th>123</th>\n",
       "      <td>Venezuela, RB</td>\n",
       "      <td>2019-01-01</td>\n",
       "      <td>NaN</td>\n",
       "      <td>NaN</td>\n",
       "      <td>NaN</td>\n",
       "      <td>8.80</td>\n",
       "      <td>NaN</td>\n",
       "      <td>58.07</td>\n",
       "      <td>2019</td>\n",
       "    </tr>\n",
       "    <tr>\n",
       "      <th>124</th>\n",
       "      <td>Venezuela, RB</td>\n",
       "      <td>2018-01-01</td>\n",
       "      <td>NaN</td>\n",
       "      <td>NaN</td>\n",
       "      <td>NaN</td>\n",
       "      <td>7.22</td>\n",
       "      <td>NaN</td>\n",
       "      <td>71.77</td>\n",
       "      <td>2018</td>\n",
       "    </tr>\n",
       "    <tr>\n",
       "      <th>125</th>\n",
       "      <td>Venezuela, RB</td>\n",
       "      <td>2017-01-01</td>\n",
       "      <td>NaN</td>\n",
       "      <td>NaN</td>\n",
       "      <td>NaN</td>\n",
       "      <td>7.30</td>\n",
       "      <td>NaN</td>\n",
       "      <td>85.33</td>\n",
       "      <td>2017</td>\n",
       "    </tr>\n",
       "    <tr>\n",
       "      <th>126</th>\n",
       "      <td>Venezuela, RB</td>\n",
       "      <td>2016-01-01</td>\n",
       "      <td>164,175.26</td>\n",
       "      <td>NaN</td>\n",
       "      <td>NaN</td>\n",
       "      <td>7.39</td>\n",
       "      <td>NaN</td>\n",
       "      <td>92.46</td>\n",
       "      <td>2016</td>\n",
       "    </tr>\n",
       "    <tr>\n",
       "      <th>127</th>\n",
       "      <td>Venezuela, RB</td>\n",
       "      <td>2015-01-01</td>\n",
       "      <td>171,894.29</td>\n",
       "      <td>NaN</td>\n",
       "      <td>NaN</td>\n",
       "      <td>7.44</td>\n",
       "      <td>NaN</td>\n",
       "      <td>96.71</td>\n",
       "      <td>2015</td>\n",
       "    </tr>\n",
       "    <tr>\n",
       "      <th>128</th>\n",
       "      <td>Venezuela, RB</td>\n",
       "      <td>2014-01-01</td>\n",
       "      <td>185,113.83</td>\n",
       "      <td>40.44</td>\n",
       "      <td>482,359,318,767.70</td>\n",
       "      <td>7.48</td>\n",
       "      <td>NaN</td>\n",
       "      <td>101.61</td>\n",
       "      <td>2014</td>\n",
       "    </tr>\n",
       "    <tr>\n",
       "      <th>129</th>\n",
       "      <td>Venezuela, RB</td>\n",
       "      <td>2013-01-01</td>\n",
       "      <td>183,944.05</td>\n",
       "      <td>35.50</td>\n",
       "      <td>371,005,379,786.57</td>\n",
       "      <td>7.54</td>\n",
       "      <td>NaN</td>\n",
       "      <td>103.74</td>\n",
       "      <td>2013</td>\n",
       "    </tr>\n",
       "    <tr>\n",
       "      <th>130</th>\n",
       "      <td>Venezuela, RB</td>\n",
       "      <td>2012-01-01</td>\n",
       "      <td>192,040.79</td>\n",
       "      <td>14.06</td>\n",
       "      <td>381,286,237,847.67</td>\n",
       "      <td>6.60</td>\n",
       "      <td>NaN</td>\n",
       "      <td>104.11</td>\n",
       "      <td>2012</td>\n",
       "    </tr>\n",
       "    <tr>\n",
       "      <th>131</th>\n",
       "      <td>Venezuela, RB</td>\n",
       "      <td>2011-01-01</td>\n",
       "      <td>171,362.58</td>\n",
       "      <td>28.15</td>\n",
       "      <td>316,482,190,800.36</td>\n",
       "      <td>6.90</td>\n",
       "      <td>NaN</td>\n",
       "      <td>99.63</td>\n",
       "      <td>2011</td>\n",
       "    </tr>\n",
       "  </tbody>\n",
       "</table>\n",
       "</div>"
      ],
      "text/plain": [
       "           country       year        co2  inflation                gdp  \\\n",
       "122  Venezuela, RB 2020-01-01        NaN        NaN                NaN   \n",
       "123  Venezuela, RB 2019-01-01        NaN        NaN                NaN   \n",
       "124  Venezuela, RB 2018-01-01        NaN        NaN                NaN   \n",
       "125  Venezuela, RB 2017-01-01        NaN        NaN                NaN   \n",
       "126  Venezuela, RB 2016-01-01 164,175.26        NaN                NaN   \n",
       "127  Venezuela, RB 2015-01-01 171,894.29        NaN                NaN   \n",
       "128  Venezuela, RB 2014-01-01 185,113.83      40.44 482,359,318,767.70   \n",
       "129  Venezuela, RB 2013-01-01 183,944.05      35.50 371,005,379,786.57   \n",
       "130  Venezuela, RB 2012-01-01 192,040.79      14.06 381,286,237,847.67   \n",
       "131  Venezuela, RB 2011-01-01 171,362.58      28.15 316,482,190,800.36   \n",
       "\n",
       "     unemployment  gini  cell_subs  date  \n",
       "122          9.38   NaN        NaN  2020  \n",
       "123          8.80   NaN      58.07  2019  \n",
       "124          7.22   NaN      71.77  2018  \n",
       "125          7.30   NaN      85.33  2017  \n",
       "126          7.39   NaN      92.46  2016  \n",
       "127          7.44   NaN      96.71  2015  \n",
       "128          7.48   NaN     101.61  2014  \n",
       "129          7.54   NaN     103.74  2013  \n",
       "130          6.60   NaN     104.11  2012  \n",
       "131          6.90   NaN      99.63  2011  "
      ]
     },
     "execution_count": 56,
     "metadata": {},
     "output_type": "execute_result"
    }
   ],
   "source": [
    "data[data['country'] == 'Venezuela, RB'].head(10)"
   ]
  },
  {
   "cell_type": "code",
   "execution_count": 67,
   "id": "romance-retention",
   "metadata": {},
   "outputs": [],
   "source": [
    "data.drop('gini', axis=1, inplace=True)"
   ]
  },
  {
   "cell_type": "code",
   "execution_count": 68,
   "id": "statewide-olympus",
   "metadata": {},
   "outputs": [
    {
     "data": {
      "text/html": [
       "<div>\n",
       "<style scoped>\n",
       "    .dataframe tbody tr th:only-of-type {\n",
       "        vertical-align: middle;\n",
       "    }\n",
       "\n",
       "    .dataframe tbody tr th {\n",
       "        vertical-align: top;\n",
       "    }\n",
       "\n",
       "    .dataframe thead th {\n",
       "        text-align: right;\n",
       "    }\n",
       "</style>\n",
       "<table border=\"1\" class=\"dataframe\">\n",
       "  <thead>\n",
       "    <tr style=\"text-align: right;\">\n",
       "      <th></th>\n",
       "      <th>country</th>\n",
       "      <th>year</th>\n",
       "      <th>co2</th>\n",
       "      <th>inflation</th>\n",
       "      <th>gdp</th>\n",
       "      <th>unemployment</th>\n",
       "      <th>cell_subs</th>\n",
       "      <th>date</th>\n",
       "    </tr>\n",
       "  </thead>\n",
       "  <tbody>\n",
       "    <tr>\n",
       "      <th>0</th>\n",
       "      <td>Chile</td>\n",
       "      <td>2020-01-01</td>\n",
       "      <td>NaN</td>\n",
       "      <td>NaN</td>\n",
       "      <td>NaN</td>\n",
       "      <td>7.10</td>\n",
       "      <td>NaN</td>\n",
       "      <td>2020</td>\n",
       "    </tr>\n",
       "    <tr>\n",
       "      <th>1</th>\n",
       "      <td>Chile</td>\n",
       "      <td>2019-01-01</td>\n",
       "      <td>NaN</td>\n",
       "      <td>2.67</td>\n",
       "      <td>282,318,159,744.65</td>\n",
       "      <td>7.09</td>\n",
       "      <td>132.19</td>\n",
       "      <td>2019</td>\n",
       "    </tr>\n",
       "    <tr>\n",
       "      <th>2</th>\n",
       "      <td>Chile</td>\n",
       "      <td>2018-01-01</td>\n",
       "      <td>NaN</td>\n",
       "      <td>2.36</td>\n",
       "      <td>298,258,019,275.05</td>\n",
       "      <td>7.23</td>\n",
       "      <td>134.44</td>\n",
       "      <td>2018</td>\n",
       "    </tr>\n",
       "    <tr>\n",
       "      <th>3</th>\n",
       "      <td>Chile</td>\n",
       "      <td>2017-01-01</td>\n",
       "      <td>NaN</td>\n",
       "      <td>4.78</td>\n",
       "      <td>277,044,950,259.01</td>\n",
       "      <td>6.96</td>\n",
       "      <td>124.59</td>\n",
       "      <td>2017</td>\n",
       "    </tr>\n",
       "    <tr>\n",
       "      <th>4</th>\n",
       "      <td>Chile</td>\n",
       "      <td>2016-01-01</td>\n",
       "      <td>85,822.47</td>\n",
       "      <td>4.47</td>\n",
       "      <td>250,440,136,356.13</td>\n",
       "      <td>6.74</td>\n",
       "      <td>127.97</td>\n",
       "      <td>2016</td>\n",
       "    </tr>\n",
       "    <tr>\n",
       "      <th>...</th>\n",
       "      <td>...</td>\n",
       "      <td>...</td>\n",
       "      <td>...</td>\n",
       "      <td>...</td>\n",
       "      <td>...</td>\n",
       "      <td>...</td>\n",
       "      <td>...</td>\n",
       "      <td>...</td>\n",
       "    </tr>\n",
       "    <tr>\n",
       "      <th>178</th>\n",
       "      <td>Venezuela, RB</td>\n",
       "      <td>1964-01-01</td>\n",
       "      <td>56,603.81</td>\n",
       "      <td>-0.37</td>\n",
       "      <td>8,099,318,181.82</td>\n",
       "      <td>NaN</td>\n",
       "      <td>NaN</td>\n",
       "      <td>1964</td>\n",
       "    </tr>\n",
       "    <tr>\n",
       "      <th>179</th>\n",
       "      <td>Venezuela, RB</td>\n",
       "      <td>1963-01-01</td>\n",
       "      <td>56,204.11</td>\n",
       "      <td>4.92</td>\n",
       "      <td>9,753,333,333.33</td>\n",
       "      <td>NaN</td>\n",
       "      <td>NaN</td>\n",
       "      <td>1963</td>\n",
       "    </tr>\n",
       "    <tr>\n",
       "      <th>180</th>\n",
       "      <td>Venezuela, RB</td>\n",
       "      <td>1962-01-01</td>\n",
       "      <td>54,106.58</td>\n",
       "      <td>0.67</td>\n",
       "      <td>8,946,969,696.97</td>\n",
       "      <td>NaN</td>\n",
       "      <td>NaN</td>\n",
       "      <td>1962</td>\n",
       "    </tr>\n",
       "    <tr>\n",
       "      <th>181</th>\n",
       "      <td>Venezuela, RB</td>\n",
       "      <td>1961-01-01</td>\n",
       "      <td>51,928.39</td>\n",
       "      <td>2.01</td>\n",
       "      <td>8,189,090,909.09</td>\n",
       "      <td>NaN</td>\n",
       "      <td>NaN</td>\n",
       "      <td>1961</td>\n",
       "    </tr>\n",
       "    <tr>\n",
       "      <th>182</th>\n",
       "      <td>Venezuela, RB</td>\n",
       "      <td>1960-01-01</td>\n",
       "      <td>57,069.52</td>\n",
       "      <td>NaN</td>\n",
       "      <td>7,779,090,909.09</td>\n",
       "      <td>NaN</td>\n",
       "      <td>0.00</td>\n",
       "      <td>1960</td>\n",
       "    </tr>\n",
       "  </tbody>\n",
       "</table>\n",
       "<p>183 rows × 8 columns</p>\n",
       "</div>"
      ],
      "text/plain": [
       "           country       year       co2  inflation                gdp  \\\n",
       "0            Chile 2020-01-01       NaN        NaN                NaN   \n",
       "1            Chile 2019-01-01       NaN       2.67 282,318,159,744.65   \n",
       "2            Chile 2018-01-01       NaN       2.36 298,258,019,275.05   \n",
       "3            Chile 2017-01-01       NaN       4.78 277,044,950,259.01   \n",
       "4            Chile 2016-01-01 85,822.47       4.47 250,440,136,356.13   \n",
       "..             ...        ...       ...        ...                ...   \n",
       "178  Venezuela, RB 1964-01-01 56,603.81      -0.37   8,099,318,181.82   \n",
       "179  Venezuela, RB 1963-01-01 56,204.11       4.92   9,753,333,333.33   \n",
       "180  Venezuela, RB 1962-01-01 54,106.58       0.67   8,946,969,696.97   \n",
       "181  Venezuela, RB 1961-01-01 51,928.39       2.01   8,189,090,909.09   \n",
       "182  Venezuela, RB 1960-01-01 57,069.52        NaN   7,779,090,909.09   \n",
       "\n",
       "     unemployment  cell_subs  date  \n",
       "0            7.10        NaN  2020  \n",
       "1            7.09     132.19  2019  \n",
       "2            7.23     134.44  2018  \n",
       "3            6.96     124.59  2017  \n",
       "4            6.74     127.97  2016  \n",
       "..            ...        ...   ...  \n",
       "178           NaN        NaN  1964  \n",
       "179           NaN        NaN  1963  \n",
       "180           NaN        NaN  1962  \n",
       "181           NaN        NaN  1961  \n",
       "182           NaN       0.00  1960  \n",
       "\n",
       "[183 rows x 8 columns]"
      ]
     },
     "execution_count": 68,
     "metadata": {},
     "output_type": "execute_result"
    }
   ],
   "source": [
    "data"
   ]
  },
  {
   "cell_type": "code",
   "execution_count": 69,
   "id": "received-catch",
   "metadata": {},
   "outputs": [
    {
     "data": {
      "text/html": [
       "<div>\n",
       "<style scoped>\n",
       "    .dataframe tbody tr th:only-of-type {\n",
       "        vertical-align: middle;\n",
       "    }\n",
       "\n",
       "    .dataframe tbody tr th {\n",
       "        vertical-align: top;\n",
       "    }\n",
       "\n",
       "    .dataframe thead th {\n",
       "        text-align: right;\n",
       "    }\n",
       "</style>\n",
       "<table border=\"1\" class=\"dataframe\">\n",
       "  <thead>\n",
       "    <tr style=\"text-align: right;\">\n",
       "      <th></th>\n",
       "      <th>co2</th>\n",
       "      <th>inflation</th>\n",
       "      <th>gdp</th>\n",
       "      <th>unemployment</th>\n",
       "      <th>cell_subs</th>\n",
       "      <th>date</th>\n",
       "    </tr>\n",
       "  </thead>\n",
       "  <tbody>\n",
       "    <tr>\n",
       "      <th>co2</th>\n",
       "      <td>1.00</td>\n",
       "      <td>-0.10</td>\n",
       "      <td>0.65</td>\n",
       "      <td>0.57</td>\n",
       "      <td>0.41</td>\n",
       "      <td>0.51</td>\n",
       "    </tr>\n",
       "    <tr>\n",
       "      <th>inflation</th>\n",
       "      <td>-0.10</td>\n",
       "      <td>1.00</td>\n",
       "      <td>-0.09</td>\n",
       "      <td>0.10</td>\n",
       "      <td>-0.11</td>\n",
       "      <td>-0.02</td>\n",
       "    </tr>\n",
       "    <tr>\n",
       "      <th>gdp</th>\n",
       "      <td>0.65</td>\n",
       "      <td>-0.09</td>\n",
       "      <td>1.00</td>\n",
       "      <td>-0.12</td>\n",
       "      <td>0.89</td>\n",
       "      <td>0.80</td>\n",
       "    </tr>\n",
       "    <tr>\n",
       "      <th>unemployment</th>\n",
       "      <td>0.57</td>\n",
       "      <td>0.10</td>\n",
       "      <td>-0.12</td>\n",
       "      <td>1.00</td>\n",
       "      <td>-0.24</td>\n",
       "      <td>-0.22</td>\n",
       "    </tr>\n",
       "    <tr>\n",
       "      <th>cell_subs</th>\n",
       "      <td>0.41</td>\n",
       "      <td>-0.11</td>\n",
       "      <td>0.89</td>\n",
       "      <td>-0.24</td>\n",
       "      <td>1.00</td>\n",
       "      <td>0.81</td>\n",
       "    </tr>\n",
       "    <tr>\n",
       "      <th>date</th>\n",
       "      <td>0.51</td>\n",
       "      <td>-0.02</td>\n",
       "      <td>0.80</td>\n",
       "      <td>-0.22</td>\n",
       "      <td>0.81</td>\n",
       "      <td>1.00</td>\n",
       "    </tr>\n",
       "  </tbody>\n",
       "</table>\n",
       "</div>"
      ],
      "text/plain": [
       "               co2  inflation   gdp  unemployment  cell_subs  date\n",
       "co2           1.00      -0.10  0.65          0.57       0.41  0.51\n",
       "inflation    -0.10       1.00 -0.09          0.10      -0.11 -0.02\n",
       "gdp           0.65      -0.09  1.00         -0.12       0.89  0.80\n",
       "unemployment  0.57       0.10 -0.12          1.00      -0.24 -0.22\n",
       "cell_subs     0.41      -0.11  0.89         -0.24       1.00  0.81\n",
       "date          0.51      -0.02  0.80         -0.22       0.81  1.00"
      ]
     },
     "execution_count": 69,
     "metadata": {},
     "output_type": "execute_result"
    }
   ],
   "source": [
    "data.corr()"
   ]
  },
  {
   "cell_type": "code",
   "execution_count": 70,
   "id": "final-morning",
   "metadata": {},
   "outputs": [],
   "source": [
    "import seaborn as sns"
   ]
  },
  {
   "cell_type": "code",
   "execution_count": 72,
   "id": "romance-modern",
   "metadata": {},
   "outputs": [
    {
     "data": {
      "text/plain": [
       "<AxesSubplot:>"
      ]
     },
     "execution_count": 72,
     "metadata": {},
     "output_type": "execute_result"
    },
    {
     "data": {
      "image/png": "[encoded data removed]",
      "text/plain": [
       "<Figure size 432x288 with 2 Axes>"
      ]
     },
     "metadata": {
      "needs_background": "light"
     },
     "output_type": "display_data"
    }
   ],
   "source": [
    "sns.heatmap(data.corr(), annot=True)"
   ]
  },
  {
   "cell_type": "code",
   "execution_count": 74,
   "id": "ecological-thumbnail",
   "metadata": {},
   "outputs": [
    {
     "data": {
      "text/html": [
       "<div>\n",
       "<style scoped>\n",
       "    .dataframe tbody tr th:only-of-type {\n",
       "        vertical-align: middle;\n",
       "    }\n",
       "\n",
       "    .dataframe tbody tr th {\n",
       "        vertical-align: top;\n",
       "    }\n",
       "\n",
       "    .dataframe thead th {\n",
       "        text-align: right;\n",
       "    }\n",
       "</style>\n",
       "<table border=\"1\" class=\"dataframe\">\n",
       "  <thead>\n",
       "    <tr style=\"text-align: right;\">\n",
       "      <th></th>\n",
       "      <th>co2</th>\n",
       "      <th>inflation</th>\n",
       "      <th>gdp</th>\n",
       "      <th>unemployment</th>\n",
       "      <th>cell_subs</th>\n",
       "    </tr>\n",
       "    <tr>\n",
       "      <th>date</th>\n",
       "      <th></th>\n",
       "      <th></th>\n",
       "      <th></th>\n",
       "      <th></th>\n",
       "      <th></th>\n",
       "    </tr>\n",
       "  </thead>\n",
       "  <tbody>\n",
       "    <tr>\n",
       "      <th>1960</th>\n",
       "      <td>13,490.89</td>\n",
       "      <td>NaN</td>\n",
       "      <td>4,110,000,000.00</td>\n",
       "      <td>NaN</td>\n",
       "      <td>0.00</td>\n",
       "    </tr>\n",
       "    <tr>\n",
       "      <th>1961</th>\n",
       "      <td>14,473.65</td>\n",
       "      <td>3.10</td>\n",
       "      <td>4,609,727,272.73</td>\n",
       "      <td>NaN</td>\n",
       "      <td>NaN</td>\n",
       "    </tr>\n",
       "    <tr>\n",
       "      <th>1962</th>\n",
       "      <td>16,725.19</td>\n",
       "      <td>3.01</td>\n",
       "      <td>5,416,272,727.27</td>\n",
       "      <td>NaN</td>\n",
       "      <td>NaN</td>\n",
       "    </tr>\n",
       "    <tr>\n",
       "      <th>1963</th>\n",
       "      <td>17,355.91</td>\n",
       "      <td>5.01</td>\n",
       "      <td>5,668,187,500.00</td>\n",
       "      <td>NaN</td>\n",
       "      <td>NaN</td>\n",
       "    </tr>\n",
       "    <tr>\n",
       "      <th>1964</th>\n",
       "      <td>17,524.59</td>\n",
       "      <td>13.56</td>\n",
       "      <td>5,982,347,826.09</td>\n",
       "      <td>NaN</td>\n",
       "      <td>NaN</td>\n",
       "    </tr>\n",
       "    <tr>\n",
       "      <th>...</th>\n",
       "      <td>...</td>\n",
       "      <td>...</td>\n",
       "      <td>...</td>\n",
       "      <td>...</td>\n",
       "      <td>...</td>\n",
       "    </tr>\n",
       "    <tr>\n",
       "      <th>2016</th>\n",
       "      <td>85,822.47</td>\n",
       "      <td>3.78</td>\n",
       "      <td>221,168,040,090.01</td>\n",
       "      <td>6.74</td>\n",
       "      <td>119.42</td>\n",
       "    </tr>\n",
       "    <tr>\n",
       "      <th>2017</th>\n",
       "      <td>NaN</td>\n",
       "      <td>4.20</td>\n",
       "      <td>244,026,078,871.26</td>\n",
       "      <td>6.96</td>\n",
       "      <td>123.76</td>\n",
       "    </tr>\n",
       "    <tr>\n",
       "      <th>2018</th>\n",
       "      <td>NaN</td>\n",
       "      <td>2.19</td>\n",
       "      <td>260,151,494,880.63</td>\n",
       "      <td>7.22</td>\n",
       "      <td>123.76</td>\n",
       "    </tr>\n",
       "    <tr>\n",
       "      <th>2019</th>\n",
       "      <td>NaN</td>\n",
       "      <td>2.11</td>\n",
       "      <td>254,583,105,282.09</td>\n",
       "      <td>7.09</td>\n",
       "      <td>123.76</td>\n",
       "    </tr>\n",
       "    <tr>\n",
       "      <th>2020</th>\n",
       "      <td>NaN</td>\n",
       "      <td>NaN</td>\n",
       "      <td>NaN</td>\n",
       "      <td>7.10</td>\n",
       "      <td>NaN</td>\n",
       "    </tr>\n",
       "  </tbody>\n",
       "</table>\n",
       "<p>61 rows × 5 columns</p>\n",
       "</div>"
      ],
      "text/plain": [
       "           co2  inflation                gdp  unemployment  cell_subs\n",
       "date                                                                 \n",
       "1960 13,490.89        NaN   4,110,000,000.00           NaN       0.00\n",
       "1961 14,473.65       3.10   4,609,727,272.73           NaN        NaN\n",
       "1962 16,725.19       3.01   5,416,272,727.27           NaN        NaN\n",
       "1963 17,355.91       5.01   5,668,187,500.00           NaN        NaN\n",
       "1964 17,524.59      13.56   5,982,347,826.09           NaN        NaN\n",
       "...        ...        ...                ...           ...        ...\n",
       "2016 85,822.47       3.78 221,168,040,090.01          6.74     119.42\n",
       "2017       NaN       4.20 244,026,078,871.26          6.96     123.76\n",
       "2018       NaN       2.19 260,151,494,880.63          7.22     123.76\n",
       "2019       NaN       2.11 254,583,105,282.09          7.09     123.76\n",
       "2020       NaN        NaN                NaN          7.10        NaN\n",
       "\n",
       "[61 rows x 5 columns]"
      ]
     },
     "execution_count": 74,
     "metadata": {},
     "output_type": "execute_result"
    }
   ],
   "source": [
    "global_indicators = data.groupby('date').median()\n",
    "global_indicators"
   ]
  },
  {
   "cell_type": "code",
   "execution_count": 76,
   "id": "musical-colon",
   "metadata": {},
   "outputs": [
    {
     "data": {
      "image/png": "[encoded data removed]",
      "text/plain": [
       "<Figure size 432x288 with 2 Axes>"
      ]
     },
     "metadata": {
      "needs_background": "light"
     },
     "output_type": "display_data"
    }
   ],
   "source": [
    "sns.heatmap(global_indicators.corr(), annot=True);"
   ]
  },
  {
   "cell_type": "code",
   "execution_count": 79,
   "id": "demographic-tonight",
   "metadata": {},
   "outputs": [
    {
     "data": {
      "text/plain": [
       "<AxesSubplot:xlabel='date'>"
      ]
     },
     "execution_count": 79,
     "metadata": {},
     "output_type": "execute_result"
    },
    {
     "data": {
      "image/png": "[encoded data removed]",
      "text/plain": [
       "<Figure size 432x288 with 1 Axes>"
      ]
     },
     "metadata": {
      "needs_background": "light"
     },
     "output_type": "display_data"
    }
   ],
   "source": [
    "global_indicators.unemployment.plot()"
   ]
  },
  {
   "cell_type": "code",
   "execution_count": 85,
   "id": "adequate-episode",
   "metadata": {},
   "outputs": [
    {
     "data": {
      "image/png": "[encoded data removed]",
      "text/plain": [
       "<Figure size 432x288 with 1 Axes>"
      ]
     },
     "metadata": {
      "needs_background": "light"
     },
     "output_type": "display_data"
    }
   ],
   "source": [
    "sns.scatterplot(x=data.co2, y=data.gdp);"
   ]
  },
  {
   "cell_type": "code",
   "execution_count": 88,
   "id": "complex-danger",
   "metadata": {},
   "outputs": [
    {
     "data": {
      "image/png": "[encoded data removed]",
      "text/plain": [
       "<Figure size 432x288 with 1 Axes>"
      ]
     },
     "metadata": {
      "needs_background": "light"
     },
     "output_type": "display_data"
    }
   ],
   "source": [
    "sns.regplot(x=data.cell_subs, y=data.unemployment);"
   ]
  },
  {
   "cell_type": "code",
   "execution_count": 87,
   "id": "thick-antique",
   "metadata": {},
   "outputs": [
    {
     "data": {
      "image/png": "[encoded data removed]",
      "text/plain": [
       "<Figure size 900x900 with 30 Axes>"
      ]
     },
     "metadata": {
      "needs_background": "light"
     },
     "output_type": "display_data"
    }
   ],
   "source": [
    "g = sns.PairGrid(global_indicators)\n",
    "g.map_diag(sns.histplot)\n",
    "g.map_offdiag(sns.scatterplot);"
   ]
  },
  {
   "cell_type": "code",
   "execution_count": null,
   "id": "animal-beginning",
   "metadata": {},
   "outputs": [],
   "source": []
  }
 ],
 "metadata": {
  "kernelspec": {
   "display_name": "Python 3",
   "language": "python",
   "name": "python3"
  },
  "language_info": {
   "codemirror_mode": {
    "name": "ipython",
    "version": 3
   },
   "file_extension": ".py",
   "mimetype": "text/x-python",
   "name": "python",
   "nbconvert_exporter": "python",
   "pygments_lexer": "ipython3",
   "version": "3.8.6"
  }
 },
 "nbformat": 4,
 "nbformat_minor": 5
}
